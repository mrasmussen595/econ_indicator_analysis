{
 "cells": [
  {
   "cell_type": "code",
   "execution_count": 87,
   "metadata": {},
   "outputs": [],
   "source": [
    "# First cell - Imports\n",
    "import pandas as pd\n",
    "import numpy as np\n",
    "import plotly.express as px\n",
    "import plotly.graph_objects as go\n",
    "import plotly.io as pio\n",
    "from plotly.subplots import make_subplots\n",
    "from scipy import stats\n",
    "import requests\n",
    "import statsmodels as sm\n",
    "import kaleido\n",
    "import os\n",
    "from dotenv import load_dotenv"
   ]
  },
  {
   "cell_type": "code",
   "execution_count": 62,
   "metadata": {},
   "outputs": [],
   "source": [
    "# Second Cell - Data Extraction/Load\n",
    "load_dotenv()\n",
    "\n",
    "# Get API key from environment\n",
    "API_KEY = os.getenv('FRED_API_KEY')\n",
    "BASE_URL = 'https://api.stlouisfed.org/fred'\n",
    "\n",
    "def get_fred_series(series_id, observation_start=None):\n",
    "    \"\"\"\n",
    "    Fetch data series from FRED API\n",
    "    \n",
    "    Parameters:\n",
    "    series_id (str): FRED series identifier\n",
    "    observation_start (str): Start date in YYYY-MM-DD format\n",
    "    \n",
    "    Returns:\n",
    "    pandas.DataFrame: Time series data\n",
    "    \"\"\"\n",
    "    # Build API URL\n",
    "    url = f\"{BASE_URL}/series/observations\"\n",
    "    \n",
    "    params = {\n",
    "        'series_id': series_id,\n",
    "        'api_key': API_KEY,\n",
    "        'file_type': 'json',\n",
    "        'observation_start': observation_start if observation_start else '1976-01-01'\n",
    "    }\n",
    "    \n",
    "    # Make API request\n",
    "    response = requests.get(url, params=params)\n",
    "    data = response.json()\n",
    "    \n",
    "    # Convert to DataFrame\n",
    "    df = pd.DataFrame(data['observations'])\n",
    "    df['date'] = pd.to_datetime(df['date'])\n",
    "    df['value'] = pd.to_numeric(df['value'], errors='coerce')\n",
    "    \n",
    "    return df.set_index('date')['value'] #set date index so pandas automatically knows the date (i.e. resampling)\n",
    "\n",
    "# Get our series\n",
    "yield_spread = get_fred_series('T10Y2Y')\n",
    "gdp = get_fred_series('GDPC1')\n",
    "fed_funds = get_fred_series('DFF')\n",
    "unemployment = get_fred_series('UNRATE')\n",
    "option_adjusted_spread = get_fred_series('BAMLH0A0HYM2')\n",
    "delinquency_rate_credit = get_fred_series('DRCCLACBS')\n",
    "delinquency_rate_loans = get_fred_series('DRBLACBS')\n",
    "# Create main dataframe\n",
    "df = pd.DataFrame({\n",
    "    'yield_spread': yield_spread,\n",
    "    'gdp': gdp,\n",
    "    'fed_funds':fed_funds, \n",
    "    'unemployment': unemployment,\n",
    "    'option_adjusted_spread': option_adjusted_spread,\n",
    "    'delinquency_rate_credit_cards': delinquency_rate_credit,\n",
    "    'delinquency_rate_loans': delinquency_rate_loans\n",
    "})\n",
    "\n",
    " \n",
    "\n"
   ]
  },
  {
   "cell_type": "code",
   "execution_count": null,
   "metadata": {},
   "outputs": [
    {
     "name": "stderr",
     "output_type": "stream",
     "text": [
      "C:\\Users\\mrasm\\AppData\\Local\\Temp\\ipykernel_3752\\3652860053.py:4: FutureWarning:\n",
      "\n",
      "The default fill_method='pad' in Series.pct_change is deprecated and will be removed in a future version. Either fill in any non-leading NA values prior to calling pct_change or specify 'fill_method=None' to not fill NA values.\n",
      "\n"
     ]
    },
    {
     "data": {
      "text/html": [
       "<div>\n",
       "<style scoped>\n",
       "    .dataframe tbody tr th:only-of-type {\n",
       "        vertical-align: middle;\n",
       "    }\n",
       "\n",
       "    .dataframe tbody tr th {\n",
       "        vertical-align: top;\n",
       "    }\n",
       "\n",
       "    .dataframe thead th {\n",
       "        text-align: right;\n",
       "    }\n",
       "</style>\n",
       "<table border=\"1\" class=\"dataframe\">\n",
       "  <thead>\n",
       "    <tr style=\"text-align: right;\">\n",
       "      <th></th>\n",
       "      <th>yield_spread</th>\n",
       "      <th>gdp</th>\n",
       "      <th>fed_funds</th>\n",
       "      <th>unemployment</th>\n",
       "      <th>option_adjusted_spread</th>\n",
       "      <th>delinquency_rate_credit_cards</th>\n",
       "      <th>delinquency_rate_loans</th>\n",
       "      <th>gdp_growth</th>\n",
       "      <th>delinquency_rate_clean</th>\n",
       "      <th>quarterly_spread</th>\n",
       "      <th>quarter</th>\n",
       "      <th>period</th>\n",
       "    </tr>\n",
       "    <tr>\n",
       "      <th>date</th>\n",
       "      <th></th>\n",
       "      <th></th>\n",
       "      <th></th>\n",
       "      <th></th>\n",
       "      <th></th>\n",
       "      <th></th>\n",
       "      <th></th>\n",
       "      <th></th>\n",
       "      <th></th>\n",
       "      <th></th>\n",
       "      <th></th>\n",
       "      <th></th>\n",
       "    </tr>\n",
       "  </thead>\n",
       "  <tbody>\n",
       "    <tr>\n",
       "      <th>1976-01-01</th>\n",
       "      <td>NaN</td>\n",
       "      <td>6323.649</td>\n",
       "      <td>5.37</td>\n",
       "      <td>7.9</td>\n",
       "      <td>NaN</td>\n",
       "      <td>NaN</td>\n",
       "      <td>NaN</td>\n",
       "      <td>NaN</td>\n",
       "      <td>NaN</td>\n",
       "      <td>NaN</td>\n",
       "      <td>1Q76</td>\n",
       "      <td>Expansion</td>\n",
       "    </tr>\n",
       "    <tr>\n",
       "      <th>1976-01-02</th>\n",
       "      <td>NaN</td>\n",
       "      <td>NaN</td>\n",
       "      <td>5.28</td>\n",
       "      <td>NaN</td>\n",
       "      <td>NaN</td>\n",
       "      <td>NaN</td>\n",
       "      <td>NaN</td>\n",
       "      <td>NaN</td>\n",
       "      <td>NaN</td>\n",
       "      <td>NaN</td>\n",
       "      <td>1Q76</td>\n",
       "      <td>Expansion</td>\n",
       "    </tr>\n",
       "    <tr>\n",
       "      <th>1976-01-03</th>\n",
       "      <td>NaN</td>\n",
       "      <td>NaN</td>\n",
       "      <td>5.28</td>\n",
       "      <td>NaN</td>\n",
       "      <td>NaN</td>\n",
       "      <td>NaN</td>\n",
       "      <td>NaN</td>\n",
       "      <td>NaN</td>\n",
       "      <td>NaN</td>\n",
       "      <td>NaN</td>\n",
       "      <td>1Q76</td>\n",
       "      <td>Expansion</td>\n",
       "    </tr>\n",
       "    <tr>\n",
       "      <th>1976-01-04</th>\n",
       "      <td>NaN</td>\n",
       "      <td>NaN</td>\n",
       "      <td>5.28</td>\n",
       "      <td>NaN</td>\n",
       "      <td>NaN</td>\n",
       "      <td>NaN</td>\n",
       "      <td>NaN</td>\n",
       "      <td>NaN</td>\n",
       "      <td>NaN</td>\n",
       "      <td>NaN</td>\n",
       "      <td>1Q76</td>\n",
       "      <td>Expansion</td>\n",
       "    </tr>\n",
       "    <tr>\n",
       "      <th>1976-01-05</th>\n",
       "      <td>NaN</td>\n",
       "      <td>NaN</td>\n",
       "      <td>5.29</td>\n",
       "      <td>NaN</td>\n",
       "      <td>NaN</td>\n",
       "      <td>NaN</td>\n",
       "      <td>NaN</td>\n",
       "      <td>0.0</td>\n",
       "      <td>NaN</td>\n",
       "      <td>NaN</td>\n",
       "      <td>1Q76</td>\n",
       "      <td>Expansion</td>\n",
       "    </tr>\n",
       "    <tr>\n",
       "      <th>...</th>\n",
       "      <td>...</td>\n",
       "      <td>...</td>\n",
       "      <td>...</td>\n",
       "      <td>...</td>\n",
       "      <td>...</td>\n",
       "      <td>...</td>\n",
       "      <td>...</td>\n",
       "      <td>...</td>\n",
       "      <td>...</td>\n",
       "      <td>...</td>\n",
       "      <td>...</td>\n",
       "      <td>...</td>\n",
       "    </tr>\n",
       "    <tr>\n",
       "      <th>2024-11-04</th>\n",
       "      <td>0.14</td>\n",
       "      <td>NaN</td>\n",
       "      <td>4.83</td>\n",
       "      <td>NaN</td>\n",
       "      <td>2.87</td>\n",
       "      <td>3.25</td>\n",
       "      <td>1.13</td>\n",
       "      <td>0.0</td>\n",
       "      <td>3.25</td>\n",
       "      <td>2.908214</td>\n",
       "      <td>4Q24</td>\n",
       "      <td>Expansion</td>\n",
       "    </tr>\n",
       "    <tr>\n",
       "      <th>2024-11-05</th>\n",
       "      <td>0.07</td>\n",
       "      <td>NaN</td>\n",
       "      <td>4.83</td>\n",
       "      <td>NaN</td>\n",
       "      <td>2.86</td>\n",
       "      <td>3.25</td>\n",
       "      <td>1.13</td>\n",
       "      <td>0.0</td>\n",
       "      <td>3.25</td>\n",
       "      <td>2.908214</td>\n",
       "      <td>4Q24</td>\n",
       "      <td>Expansion</td>\n",
       "    </tr>\n",
       "    <tr>\n",
       "      <th>2024-11-06</th>\n",
       "      <td>0.15</td>\n",
       "      <td>NaN</td>\n",
       "      <td>4.83</td>\n",
       "      <td>NaN</td>\n",
       "      <td>2.74</td>\n",
       "      <td>3.25</td>\n",
       "      <td>1.13</td>\n",
       "      <td>0.0</td>\n",
       "      <td>3.25</td>\n",
       "      <td>2.908214</td>\n",
       "      <td>4Q24</td>\n",
       "      <td>Expansion</td>\n",
       "    </tr>\n",
       "    <tr>\n",
       "      <th>2024-11-07</th>\n",
       "      <td>0.10</td>\n",
       "      <td>NaN</td>\n",
       "      <td>4.83</td>\n",
       "      <td>NaN</td>\n",
       "      <td>2.73</td>\n",
       "      <td>3.25</td>\n",
       "      <td>1.13</td>\n",
       "      <td>0.0</td>\n",
       "      <td>3.25</td>\n",
       "      <td>2.908214</td>\n",
       "      <td>4Q24</td>\n",
       "      <td>Expansion</td>\n",
       "    </tr>\n",
       "    <tr>\n",
       "      <th>2024-11-08</th>\n",
       "      <td>0.04</td>\n",
       "      <td>NaN</td>\n",
       "      <td>NaN</td>\n",
       "      <td>NaN</td>\n",
       "      <td>NaN</td>\n",
       "      <td>3.25</td>\n",
       "      <td>1.13</td>\n",
       "      <td>0.0</td>\n",
       "      <td>3.25</td>\n",
       "      <td>2.908214</td>\n",
       "      <td>4Q24</td>\n",
       "      <td>Expansion</td>\n",
       "    </tr>\n",
       "  </tbody>\n",
       "</table>\n",
       "<p>17845 rows × 12 columns</p>\n",
       "</div>"
      ],
      "text/plain": [
       "            yield_spread       gdp  fed_funds  unemployment  \\\n",
       "date                                                          \n",
       "1976-01-01           NaN  6323.649       5.37           7.9   \n",
       "1976-01-02           NaN       NaN       5.28           NaN   \n",
       "1976-01-03           NaN       NaN       5.28           NaN   \n",
       "1976-01-04           NaN       NaN       5.28           NaN   \n",
       "1976-01-05           NaN       NaN       5.29           NaN   \n",
       "...                  ...       ...        ...           ...   \n",
       "2024-11-04          0.14       NaN       4.83           NaN   \n",
       "2024-11-05          0.07       NaN       4.83           NaN   \n",
       "2024-11-06          0.15       NaN       4.83           NaN   \n",
       "2024-11-07          0.10       NaN       4.83           NaN   \n",
       "2024-11-08          0.04       NaN        NaN           NaN   \n",
       "\n",
       "            option_adjusted_spread  delinquency_rate_credit_cards  \\\n",
       "date                                                                \n",
       "1976-01-01                     NaN                            NaN   \n",
       "1976-01-02                     NaN                            NaN   \n",
       "1976-01-03                     NaN                            NaN   \n",
       "1976-01-04                     NaN                            NaN   \n",
       "1976-01-05                     NaN                            NaN   \n",
       "...                            ...                            ...   \n",
       "2024-11-04                    2.87                           3.25   \n",
       "2024-11-05                    2.86                           3.25   \n",
       "2024-11-06                    2.74                           3.25   \n",
       "2024-11-07                    2.73                           3.25   \n",
       "2024-11-08                     NaN                           3.25   \n",
       "\n",
       "            delinquency_rate_loans  gdp_growth  delinquency_rate_clean  \\\n",
       "date                                                                     \n",
       "1976-01-01                     NaN         NaN                     NaN   \n",
       "1976-01-02                     NaN         NaN                     NaN   \n",
       "1976-01-03                     NaN         NaN                     NaN   \n",
       "1976-01-04                     NaN         NaN                     NaN   \n",
       "1976-01-05                     NaN         0.0                     NaN   \n",
       "...                            ...         ...                     ...   \n",
       "2024-11-04                    1.13         0.0                    3.25   \n",
       "2024-11-05                    1.13         0.0                    3.25   \n",
       "2024-11-06                    1.13         0.0                    3.25   \n",
       "2024-11-07                    1.13         0.0                    3.25   \n",
       "2024-11-08                    1.13         0.0                    3.25   \n",
       "\n",
       "            quarterly_spread quarter     period  \n",
       "date                                             \n",
       "1976-01-01               NaN    1Q76  Expansion  \n",
       "1976-01-02               NaN    1Q76  Expansion  \n",
       "1976-01-03               NaN    1Q76  Expansion  \n",
       "1976-01-04               NaN    1Q76  Expansion  \n",
       "1976-01-05               NaN    1Q76  Expansion  \n",
       "...                      ...     ...        ...  \n",
       "2024-11-04          2.908214    4Q24  Expansion  \n",
       "2024-11-05          2.908214    4Q24  Expansion  \n",
       "2024-11-06          2.908214    4Q24  Expansion  \n",
       "2024-11-07          2.908214    4Q24  Expansion  \n",
       "2024-11-08          2.908214    4Q24  Expansion  \n",
       "\n",
       "[17845 rows x 12 columns]"
      ]
     },
     "metadata": {},
     "output_type": "display_data"
    }
   ],
   "source": [
    "# Third Cell - Data Transformation\n",
    "\n",
    "# Calculate GDP growth rate (annualized)\n",
    "df['gdp_growth'] = df['gdp'].pct_change(periods=4) * 100\n",
    "\n",
    "#Fill-down \n",
    "df['delinquency_rate_credit_cards'] = df['delinquency_rate_credit_cards'].ffill()\n",
    "df['delinquency_rate_loans'] = df['delinquency_rate_loans'].ffill()\n",
    "\n",
    "# Get end of month value for option adjusted spread\n",
    "df['quarterly_spread'] = df.groupby(df.index.to_period('Q'))['option_adjusted_spread'].transform('mean')\n",
    "\n",
    "# Fill down (forward fill)\n",
    "df['quarterly_spread'] = df['quarterly_spread'].ffill()\n",
    "\n",
    "df = df.reset_index()\n",
    "df['date'] = pd.to_datetime(df['date'])\n",
    "df = df.set_index('date')\n",
    "df['quarter'] = df.index.quarter.astype(str) + \"Q\" + df.index.year.astype(str).str[-2:]\n",
    "df['period'] = np.where((df.index >= '2001-01-01') & (df.index <= '2001-12-31'), 'Dot Com',\n",
    "                 np.where((df.index >= '2007-10-01') & (df.index <= '2009-06-30'), 'Great Recession',\n",
    "                 np.where((df.index >= '2020-01-01') & (df.index <= '2020-06-30'), 'COVID',\n",
    "                 'Expansion')))\n",
    "df.to_excel('stats.xlsx')\n",
    "display(df)"
   ]
  },
  {
   "cell_type": "code",
   "execution_count": 93,
   "metadata": {},
   "outputs": [
    {
     "data": {
      "text/html": [
       "<div>\n",
       "<style scoped>\n",
       "    .dataframe tbody tr th:only-of-type {\n",
       "        vertical-align: middle;\n",
       "    }\n",
       "\n",
       "    .dataframe tbody tr th {\n",
       "        vertical-align: top;\n",
       "    }\n",
       "\n",
       "    .dataframe thead th {\n",
       "        text-align: right;\n",
       "    }\n",
       "</style>\n",
       "<table border=\"1\" class=\"dataframe\">\n",
       "  <thead>\n",
       "    <tr style=\"text-align: right;\">\n",
       "      <th></th>\n",
       "      <th>quarter</th>\n",
       "      <th>period</th>\n",
       "      <th>quarterly_spread</th>\n",
       "      <th>delinquency_rate_loans</th>\n",
       "    </tr>\n",
       "  </thead>\n",
       "  <tbody>\n",
       "    <tr>\n",
       "      <th>7670</th>\n",
       "      <td>4Q96</td>\n",
       "      <td>Expansion</td>\n",
       "      <td>3.130000</td>\n",
       "      <td>1.95</td>\n",
       "    </tr>\n",
       "    <tr>\n",
       "      <th>7671</th>\n",
       "      <td>1Q97</td>\n",
       "      <td>Expansion</td>\n",
       "      <td>2.897377</td>\n",
       "      <td>1.90</td>\n",
       "    </tr>\n",
       "    <tr>\n",
       "      <th>7761</th>\n",
       "      <td>2Q97</td>\n",
       "      <td>Expansion</td>\n",
       "      <td>2.747231</td>\n",
       "      <td>1.81</td>\n",
       "    </tr>\n",
       "    <tr>\n",
       "      <th>7852</th>\n",
       "      <td>3Q97</td>\n",
       "      <td>Expansion</td>\n",
       "      <td>2.620462</td>\n",
       "      <td>1.72</td>\n",
       "    </tr>\n",
       "    <tr>\n",
       "      <th>7944</th>\n",
       "      <td>4Q97</td>\n",
       "      <td>Expansion</td>\n",
       "      <td>2.780606</td>\n",
       "      <td>1.70</td>\n",
       "    </tr>\n",
       "    <tr>\n",
       "      <th>...</th>\n",
       "      <td>...</td>\n",
       "      <td>...</td>\n",
       "      <td>...</td>\n",
       "      <td>...</td>\n",
       "    </tr>\n",
       "    <tr>\n",
       "      <th>17440</th>\n",
       "      <td>4Q23</td>\n",
       "      <td>Expansion</td>\n",
       "      <td>3.978000</td>\n",
       "      <td>1.03</td>\n",
       "    </tr>\n",
       "    <tr>\n",
       "      <th>17532</th>\n",
       "      <td>1Q24</td>\n",
       "      <td>Expansion</td>\n",
       "      <td>3.365000</td>\n",
       "      <td>1.12</td>\n",
       "    </tr>\n",
       "    <tr>\n",
       "      <th>17623</th>\n",
       "      <td>2Q24</td>\n",
       "      <td>Expansion</td>\n",
       "      <td>3.180152</td>\n",
       "      <td>1.13</td>\n",
       "    </tr>\n",
       "    <tr>\n",
       "      <th>17714</th>\n",
       "      <td>3Q24</td>\n",
       "      <td>Expansion</td>\n",
       "      <td>3.259851</td>\n",
       "      <td>1.13</td>\n",
       "    </tr>\n",
       "    <tr>\n",
       "      <th>17806</th>\n",
       "      <td>4Q24</td>\n",
       "      <td>Expansion</td>\n",
       "      <td>2.908214</td>\n",
       "      <td>1.13</td>\n",
       "    </tr>\n",
       "  </tbody>\n",
       "</table>\n",
       "<p>113 rows × 4 columns</p>\n",
       "</div>"
      ],
      "text/plain": [
       "      quarter     period  quarterly_spread  delinquency_rate_loans\n",
       "7670     4Q96  Expansion          3.130000                    1.95\n",
       "7671     1Q97  Expansion          2.897377                    1.90\n",
       "7761     2Q97  Expansion          2.747231                    1.81\n",
       "7852     3Q97  Expansion          2.620462                    1.72\n",
       "7944     4Q97  Expansion          2.780606                    1.70\n",
       "...       ...        ...               ...                     ...\n",
       "17440    4Q23  Expansion          3.978000                    1.03\n",
       "17532    1Q24  Expansion          3.365000                    1.12\n",
       "17623    2Q24  Expansion          3.180152                    1.13\n",
       "17714    3Q24  Expansion          3.259851                    1.13\n",
       "17806    4Q24  Expansion          2.908214                    1.13\n",
       "\n",
       "[113 rows x 4 columns]"
      ]
     },
     "metadata": {},
     "output_type": "display_data"
    },
    {
     "name": "stdout",
     "output_type": "stream",
     "text": [
      "Correlation between Option-Adjusted Spread and delinquency rates:\n",
      "                        quarterly_spread  delinquency_rate_loans\n",
      "quarterly_spread                1.000000                0.608238\n",
      "delinquency_rate_loans          0.608238                1.000000\n"
     ]
    },
    {
     "data": {
      "application/vnd.plotly.v1+json": {
       "config": {
        "plotlyServerURL": "https://plot.ly"
       },
       "data": [
        {
         "hovertemplate": "Economic Period=Expansion<br>Option-Adjusted Spread=%{x}<br>Delinquency Rate (%)=%{y}<extra></extra>",
         "legendgroup": "Expansion",
         "marker": {
          "color": "blue",
          "symbol": "circle"
         },
         "mode": "markers",
         "name": "Expansion",
         "orientation": "v",
         "showlegend": true,
         "type": "scatter",
         "x": [
          3.13,
          2.897377049180328,
          2.747230769230769,
          2.620461538461538,
          2.7806060606060607,
          2.926769230769231,
          3.032769230769231,
          4.290454545454546,
          5.904696969696969,
          5.3609230769230765,
          4.804769230769231,
          4.885223880597015,
          4.9491044776119395,
          5.029230769230769,
          5.962615384615384,
          6.316363636363636,
          8.117846153846154,
          7.862698412698412,
          7.372727272727273,
          9.659850746268658,
          9.788787878787877,
          8.216031746031746,
          6.66476923076923,
          5.681641791044776,
          4.610757575757575,
          4.202272727272728,
          4.09796875,
          3.989253731343283,
          3.373333333333333,
          3.075714285714286,
          3.9706060606060607,
          3.50044776119403,
          3.6207692307692305,
          3.37421875,
          3.120307692307692,
          3.4065151515151517,
          3.1316923076923078,
          2.753230769230769,
          2.63734375,
          4.02590909090909,
          9.25090909090909,
          7.423484848484848,
          6.352153846153846,
          6.380625,
          6.6538805970149255,
          5.806865671641791,
          4.875,
          5.004923076923077,
          6.704477611940298,
          7.673692307692308,
          6.335692307692308,
          6.413076923076924,
          5.967878787878788,
          5.5165625,
          4.903968253968253,
          4.723181818181819,
          4.7393846153846155,
          4.328030303030303,
          3.9342857142857146,
          3.6456923076923076,
          3.89134328358209,
          4.683484848484849,
          4.8865625,
          4.5996875,
          5.535757575757576,
          6.402424242424242,
          7.6015625,
          6.328181818181818,
          5.3638805970149255,
          4.634615384615385,
          3.92125,
          3.7975384615384615,
          3.7504545454545455,
          3.591846153846154,
          3.5090625,
          3.4645454545454544,
          3.463030303030303,
          4.070615384615384,
          4.2403125,
          4.0218461538461545,
          4.0823880597014925,
          3.9610769230769227,
          5.369848484848484,
          4.548636363636363,
          3.615846153846154,
          3.2575,
          3.2034328358208954,
          3.2143939393939394,
          3.5590625,
          4.3472307692307695,
          4.931492537313433,
          4.748923076923077,
          4.42390625,
          4.517076923076924,
          3.909242424242424,
          3.9779999999999998,
          3.365,
          3.180151515151515,
          3.259850746268657,
          2.908214285714286
         ],
         "xaxis": "x",
         "y": [
          1.95,
          1.9,
          1.81,
          1.72,
          1.7,
          1.81,
          1.73,
          1.77,
          1.87,
          1.97,
          2,
          2.06,
          1.99,
          2.11,
          2.24,
          2.33,
          2.52,
          3.69,
          3.92,
          3.88,
          3.87,
          3.65,
          3.56,
          3.27,
          2.85,
          2.57,
          2.29,
          2.03,
          1.81,
          1.63,
          1.49,
          1.47,
          1.44,
          1.4,
          1.29,
          1.25,
          1.15,
          1.2,
          1.18,
          1.2,
          4.37,
          4.3,
          3.94,
          3.62,
          3.31,
          2.98,
          2.45,
          2.11,
          1.84,
          1.64,
          1.53,
          1.4,
          1.25,
          1.18,
          1.11,
          1.04,
          0.98,
          0.89,
          0.9,
          0.8,
          0.77,
          0.72,
          0.75,
          0.81,
          0.9,
          1.02,
          1.5,
          1.6,
          1.59,
          1.58,
          1.54,
          1.36,
          1.27,
          1.17,
          1.11,
          1.08,
          0.99,
          0.93,
          1.16,
          1.07,
          1.12,
          1.09,
          1.3,
          1.24,
          1.16,
          1.06,
          1.03,
          1.12,
          1.06,
          1.03,
          1.11,
          1.03,
          0.97,
          1,
          0.97,
          1.03,
          1.12,
          1.13,
          1.13,
          1.13
         ],
         "yaxis": "y"
        },
        {
         "hovertemplate": "<b>OLS trendline</b><br>delinquency_rate_loans = 0.377851 * quarterly_spread + -0.073933<br>R<sup>2</sup>=0.455499<br><br>Economic Period=Expansion<br>Option-Adjusted Spread=%{x}<br>Delinquency Rate (%)=%{y} <b>(trend)</b><extra></extra>",
         "legendgroup": "Expansion",
         "marker": {
          "color": "blue",
          "symbol": "circle"
         },
         "mode": "lines",
         "name": "Expansion",
         "showlegend": false,
         "type": "scatter",
         "x": [
          2.620461538461538,
          2.63734375,
          2.747230769230769,
          2.753230769230769,
          2.7806060606060607,
          2.897377049180328,
          2.908214285714286,
          2.926769230769231,
          3.032769230769231,
          3.075714285714286,
          3.120307692307692,
          3.13,
          3.1316923076923078,
          3.180151515151515,
          3.2034328358208954,
          3.2143939393939394,
          3.2575,
          3.259850746268657,
          3.365,
          3.373333333333333,
          3.37421875,
          3.4065151515151517,
          3.463030303030303,
          3.4645454545454544,
          3.50044776119403,
          3.5090625,
          3.5590625,
          3.591846153846154,
          3.615846153846154,
          3.6207692307692305,
          3.6456923076923076,
          3.7504545454545455,
          3.7975384615384615,
          3.89134328358209,
          3.909242424242424,
          3.92125,
          3.9342857142857146,
          3.9610769230769227,
          3.9706060606060607,
          3.9779999999999998,
          3.989253731343283,
          4.0218461538461545,
          4.02590909090909,
          4.070615384615384,
          4.0823880597014925,
          4.09796875,
          4.202272727272728,
          4.2403125,
          4.290454545454546,
          4.328030303030303,
          4.3472307692307695,
          4.42390625,
          4.517076923076924,
          4.548636363636363,
          4.5996875,
          4.610757575757575,
          4.634615384615385,
          4.683484848484849,
          4.723181818181819,
          4.7393846153846155,
          4.748923076923077,
          4.804769230769231,
          4.875,
          4.885223880597015,
          4.8865625,
          4.903968253968253,
          4.931492537313433,
          4.9491044776119395,
          5.004923076923077,
          5.029230769230769,
          5.3609230769230765,
          5.3638805970149255,
          5.369848484848484,
          5.5165625,
          5.535757575757576,
          5.681641791044776,
          5.806865671641791,
          5.904696969696969,
          5.962615384615384,
          5.967878787878788,
          6.316363636363636,
          6.328181818181818,
          6.335692307692308,
          6.352153846153846,
          6.380625,
          6.402424242424242,
          6.413076923076924,
          6.6538805970149255,
          6.66476923076923,
          6.704477611940298,
          7.372727272727273,
          7.423484848484848,
          7.6015625,
          7.673692307692308,
          7.862698412698412,
          8.117846153846154,
          8.216031746031746,
          9.25090909090909,
          9.659850746268658,
          9.788787878787877
         ],
         "xaxis": "x",
         "y": [
          0.9162118306766276,
          0.9225907967726275,
          0.9641117532223547,
          0.966378861206922,
          0.9767226514830514,
          1.0208447249101387,
          1.0249395891562685,
          1.0319505998374803,
          1.072002840898167,
          1.0882296870587689,
          1.1050793650832624,
          1.1087416164429478,
          1.109381057156544,
          1.1276914331826382,
          1.1364883111794417,
          1.1406299787511276,
          1.1569176611150003,
          1.1578058937208944,
          1.1975366791718292,
          1.2006854402615055,
          1.2010199961272836,
          1.2132232344185818,
          1.2345775596267523,
          1.235150061643057,
          1.2487157959876178,
          1.2519708865096137,
          1.2708634530476737,
          1.2832508002806573,
          1.2923192322189259,
          1.2941794233857502,
          1.3035966411677984,
          1.343181192119781,
          1.360971912469537,
          1.3964161893105391,
          1.4031794034285283,
          1.4077164819077443,
          1.4126420438980243,
          1.4227651377924833,
          1.4263657350888745,
          1.429159544928442,
          1.4334117822925305,
          1.4457268725079717,
          1.447262058684001,
          1.464154391254325,
          1.4686027122022303,
          1.4744898967656992,
          1.5139012933818852,
          1.5282746721287384,
          1.5472209107308268,
          1.561418960735187,
          1.5686738824402684,
          1.5976458148856767,
          1.6328504776957087,
          1.6447752543091716,
          1.664064994121043,
          1.6682478369776703,
          1.6772625418036398,
          1.6957279337603028,
          1.7107274865874897,
          1.7168497350726204,
          1.7204538554583426,
          1.7415553990070063,
          1.7680921886212349,
          1.7719552955103606,
          1.7724610946331614,
          1.7790378819329677,
          1.789437969023192,
          1.7960926641022694,
          1.8171837961332087,
          1.826368490019404,
          1.9516988698841942,
          1.9528163727866523,
          1.955071347146396,
          2.0105074330127146,
          2.0177603179317765,
          2.072882862815098,
          2.1201988727417613,
          2.1571645589020054,
          2.1790491090545077,
          2.1810378929819176,
          2.312713356732031,
          2.317178872459209,
          2.3200167209154157,
          2.326236735129484,
          2.3369945984985603,
          2.3452314712581463,
          2.349256600818936,
          2.440244589468595,
          2.4443588742228304,
          2.4593627388906913,
          2.7118617624997676,
          2.7310405800459794,
          2.7983274576498083,
          2.825581801473896,
          2.896998009772443,
          2.99340592330583,
          3.030505479974732,
          3.4215352619112496,
          3.576054410592549,
          3.6247734776994687
         ],
         "yaxis": "y"
        },
        {
         "hovertemplate": "Economic Period=Dot Com<br>Option-Adjusted Spread=%{x}<br>Delinquency Rate (%)=%{y}<extra></extra>",
         "legendgroup": "Dot Com",
         "marker": {
          "color": "red",
          "symbol": "circle"
         },
         "mode": "markers",
         "name": "Dot Com",
         "orientation": "v",
         "showlegend": true,
         "type": "scatter",
         "x": [
          8.006,
          8.063846153846153,
          8.465238095238094,
          8.995076923076923
         ],
         "xaxis": "x",
         "y": [
          2.65,
          2.94,
          3.26,
          3.48
         ],
         "yaxis": "y"
        },
        {
         "hovertemplate": "<b>OLS trendline</b><br>delinquency_rate_loans = 0.745824 * quarterly_spread + -3.1694<br>R<sup>2</sup>=0.876534<br><br>Economic Period=Dot Com<br>Option-Adjusted Spread=%{x}<br>Delinquency Rate (%)=%{y} <b>(trend)</b><extra></extra>",
         "legendgroup": "Dot Com",
         "marker": {
          "color": "red",
          "symbol": "circle"
         },
         "mode": "lines",
         "name": "Dot Com",
         "showlegend": false,
         "type": "scatter",
         "x": [
          8.006,
          8.063846153846153,
          8.465238095238094,
          8.995076923076923
         ],
         "xaxis": "x",
         "y": [
          2.801667250123571,
          2.8448102941872566,
          3.144177997359666,
          3.539344458329519
         ],
         "yaxis": "y"
        },
        {
         "hovertemplate": "Economic Period=Great Recession<br>Option-Adjusted Spread=%{x}<br>Delinquency Rate (%)=%{y}<extra></extra>",
         "legendgroup": "Great Recession",
         "marker": {
          "color": "purple",
          "symbol": "circle"
         },
         "mode": "markers",
         "name": "Great Recession",
         "orientation": "v",
         "showlegend": true,
         "type": "scatter",
         "x": [
          5.022,
          7.354603174603175,
          6.935909090909091,
          8.369850746268657,
          17.691363636363636,
          17.04353846153846,
          12.929076923076924
         ],
         "xaxis": "x",
         "y": [
          1.31,
          1.45,
          1.76,
          1.76,
          2.56,
          3.19,
          3.75
         ],
         "yaxis": "y"
        },
        {
         "hovertemplate": "<b>OLS trendline</b><br>delinquency_rate_loans = 0.143051 * quarterly_spread + 0.71452<br>R<sup>2</sup>=0.614252<br><br>Economic Period=Great Recession<br>Option-Adjusted Spread=%{x}<br>Delinquency Rate (%)=%{y} <b>(trend)</b><extra></extra>",
         "legendgroup": "Great Recession",
         "marker": {
          "color": "purple",
          "symbol": "circle"
         },
         "mode": "lines",
         "name": "Great Recession",
         "showlegend": false,
         "type": "scatter",
         "x": [
          5.022,
          6.935909090909091,
          7.354603174603175,
          8.369850746268657,
          12.929076923076924,
          17.04353846153846,
          17.691363636363636
         ],
         "xaxis": "x",
         "y": [
          1.4329213490755484,
          1.7067077601710339,
          1.7666023241636561,
          1.911834399365133,
          2.564035790878466,
          3.1526132021862954,
          3.2452851741598665
         ],
         "yaxis": "y"
        },
        {
         "hovertemplate": "Economic Period=COVID<br>Option-Adjusted Spread=%{x}<br>Delinquency Rate (%)=%{y}<extra></extra>",
         "legendgroup": "COVID",
         "marker": {
          "color": "orange",
          "symbol": "circle"
         },
         "mode": "markers",
         "name": "COVID",
         "orientation": "v",
         "showlegend": true,
         "type": "scatter",
         "x": [
          5.1443076923076925,
          7.148923076923077
         ],
         "xaxis": "x",
         "y": [
          1.14,
          1.28
         ],
         "yaxis": "y"
        },
        {
         "hovertemplate": "<b>OLS trendline</b><br>delinquency_rate_loans = 0.0698388 * quarterly_spread + 0.780728<br>R<sup>2</sup>=1.000000<br><br>Economic Period=COVID<br>Option-Adjusted Spread=%{x}<br>Delinquency Rate (%)=%{y} <b>(trend)</b><extra></extra>",
         "legendgroup": "COVID",
         "marker": {
          "color": "orange",
          "symbol": "circle"
         },
         "mode": "lines",
         "name": "COVID",
         "showlegend": false,
         "type": "scatter",
         "x": [
          5.1443076923076925,
          7.148923076923077
         ],
         "xaxis": "x",
         "y": [
          1.1399999999999997,
          1.28
         ],
         "yaxis": "y"
        }
       ],
       "layout": {
        "legend": {
         "title": {
          "text": "Economic Period"
         },
         "tracegroupgap": 0
        },
        "template": {
         "data": {
          "bar": [
           {
            "error_x": {
             "color": "#2a3f5f"
            },
            "error_y": {
             "color": "#2a3f5f"
            },
            "marker": {
             "line": {
              "color": "#E5ECF6",
              "width": 0.5
             },
             "pattern": {
              "fillmode": "overlay",
              "size": 10,
              "solidity": 0.2
             }
            },
            "type": "bar"
           }
          ],
          "barpolar": [
           {
            "marker": {
             "line": {
              "color": "#E5ECF6",
              "width": 0.5
             },
             "pattern": {
              "fillmode": "overlay",
              "size": 10,
              "solidity": 0.2
             }
            },
            "type": "barpolar"
           }
          ],
          "carpet": [
           {
            "aaxis": {
             "endlinecolor": "#2a3f5f",
             "gridcolor": "white",
             "linecolor": "white",
             "minorgridcolor": "white",
             "startlinecolor": "#2a3f5f"
            },
            "baxis": {
             "endlinecolor": "#2a3f5f",
             "gridcolor": "white",
             "linecolor": "white",
             "minorgridcolor": "white",
             "startlinecolor": "#2a3f5f"
            },
            "type": "carpet"
           }
          ],
          "choropleth": [
           {
            "colorbar": {
             "outlinewidth": 0,
             "ticks": ""
            },
            "type": "choropleth"
           }
          ],
          "contour": [
           {
            "colorbar": {
             "outlinewidth": 0,
             "ticks": ""
            },
            "colorscale": [
             [
              0,
              "#0d0887"
             ],
             [
              0.1111111111111111,
              "#46039f"
             ],
             [
              0.2222222222222222,
              "#7201a8"
             ],
             [
              0.3333333333333333,
              "#9c179e"
             ],
             [
              0.4444444444444444,
              "#bd3786"
             ],
             [
              0.5555555555555556,
              "#d8576b"
             ],
             [
              0.6666666666666666,
              "#ed7953"
             ],
             [
              0.7777777777777778,
              "#fb9f3a"
             ],
             [
              0.8888888888888888,
              "#fdca26"
             ],
             [
              1,
              "#f0f921"
             ]
            ],
            "type": "contour"
           }
          ],
          "contourcarpet": [
           {
            "colorbar": {
             "outlinewidth": 0,
             "ticks": ""
            },
            "type": "contourcarpet"
           }
          ],
          "heatmap": [
           {
            "colorbar": {
             "outlinewidth": 0,
             "ticks": ""
            },
            "colorscale": [
             [
              0,
              "#0d0887"
             ],
             [
              0.1111111111111111,
              "#46039f"
             ],
             [
              0.2222222222222222,
              "#7201a8"
             ],
             [
              0.3333333333333333,
              "#9c179e"
             ],
             [
              0.4444444444444444,
              "#bd3786"
             ],
             [
              0.5555555555555556,
              "#d8576b"
             ],
             [
              0.6666666666666666,
              "#ed7953"
             ],
             [
              0.7777777777777778,
              "#fb9f3a"
             ],
             [
              0.8888888888888888,
              "#fdca26"
             ],
             [
              1,
              "#f0f921"
             ]
            ],
            "type": "heatmap"
           }
          ],
          "heatmapgl": [
           {
            "colorbar": {
             "outlinewidth": 0,
             "ticks": ""
            },
            "colorscale": [
             [
              0,
              "#0d0887"
             ],
             [
              0.1111111111111111,
              "#46039f"
             ],
             [
              0.2222222222222222,
              "#7201a8"
             ],
             [
              0.3333333333333333,
              "#9c179e"
             ],
             [
              0.4444444444444444,
              "#bd3786"
             ],
             [
              0.5555555555555556,
              "#d8576b"
             ],
             [
              0.6666666666666666,
              "#ed7953"
             ],
             [
              0.7777777777777778,
              "#fb9f3a"
             ],
             [
              0.8888888888888888,
              "#fdca26"
             ],
             [
              1,
              "#f0f921"
             ]
            ],
            "type": "heatmapgl"
           }
          ],
          "histogram": [
           {
            "marker": {
             "pattern": {
              "fillmode": "overlay",
              "size": 10,
              "solidity": 0.2
             }
            },
            "type": "histogram"
           }
          ],
          "histogram2d": [
           {
            "colorbar": {
             "outlinewidth": 0,
             "ticks": ""
            },
            "colorscale": [
             [
              0,
              "#0d0887"
             ],
             [
              0.1111111111111111,
              "#46039f"
             ],
             [
              0.2222222222222222,
              "#7201a8"
             ],
             [
              0.3333333333333333,
              "#9c179e"
             ],
             [
              0.4444444444444444,
              "#bd3786"
             ],
             [
              0.5555555555555556,
              "#d8576b"
             ],
             [
              0.6666666666666666,
              "#ed7953"
             ],
             [
              0.7777777777777778,
              "#fb9f3a"
             ],
             [
              0.8888888888888888,
              "#fdca26"
             ],
             [
              1,
              "#f0f921"
             ]
            ],
            "type": "histogram2d"
           }
          ],
          "histogram2dcontour": [
           {
            "colorbar": {
             "outlinewidth": 0,
             "ticks": ""
            },
            "colorscale": [
             [
              0,
              "#0d0887"
             ],
             [
              0.1111111111111111,
              "#46039f"
             ],
             [
              0.2222222222222222,
              "#7201a8"
             ],
             [
              0.3333333333333333,
              "#9c179e"
             ],
             [
              0.4444444444444444,
              "#bd3786"
             ],
             [
              0.5555555555555556,
              "#d8576b"
             ],
             [
              0.6666666666666666,
              "#ed7953"
             ],
             [
              0.7777777777777778,
              "#fb9f3a"
             ],
             [
              0.8888888888888888,
              "#fdca26"
             ],
             [
              1,
              "#f0f921"
             ]
            ],
            "type": "histogram2dcontour"
           }
          ],
          "mesh3d": [
           {
            "colorbar": {
             "outlinewidth": 0,
             "ticks": ""
            },
            "type": "mesh3d"
           }
          ],
          "parcoords": [
           {
            "line": {
             "colorbar": {
              "outlinewidth": 0,
              "ticks": ""
             }
            },
            "type": "parcoords"
           }
          ],
          "pie": [
           {
            "automargin": true,
            "type": "pie"
           }
          ],
          "scatter": [
           {
            "fillpattern": {
             "fillmode": "overlay",
             "size": 10,
             "solidity": 0.2
            },
            "type": "scatter"
           }
          ],
          "scatter3d": [
           {
            "line": {
             "colorbar": {
              "outlinewidth": 0,
              "ticks": ""
             }
            },
            "marker": {
             "colorbar": {
              "outlinewidth": 0,
              "ticks": ""
             }
            },
            "type": "scatter3d"
           }
          ],
          "scattercarpet": [
           {
            "marker": {
             "colorbar": {
              "outlinewidth": 0,
              "ticks": ""
             }
            },
            "type": "scattercarpet"
           }
          ],
          "scattergeo": [
           {
            "marker": {
             "colorbar": {
              "outlinewidth": 0,
              "ticks": ""
             }
            },
            "type": "scattergeo"
           }
          ],
          "scattergl": [
           {
            "marker": {
             "colorbar": {
              "outlinewidth": 0,
              "ticks": ""
             }
            },
            "type": "scattergl"
           }
          ],
          "scattermapbox": [
           {
            "marker": {
             "colorbar": {
              "outlinewidth": 0,
              "ticks": ""
             }
            },
            "type": "scattermapbox"
           }
          ],
          "scatterpolar": [
           {
            "marker": {
             "colorbar": {
              "outlinewidth": 0,
              "ticks": ""
             }
            },
            "type": "scatterpolar"
           }
          ],
          "scatterpolargl": [
           {
            "marker": {
             "colorbar": {
              "outlinewidth": 0,
              "ticks": ""
             }
            },
            "type": "scatterpolargl"
           }
          ],
          "scatterternary": [
           {
            "marker": {
             "colorbar": {
              "outlinewidth": 0,
              "ticks": ""
             }
            },
            "type": "scatterternary"
           }
          ],
          "surface": [
           {
            "colorbar": {
             "outlinewidth": 0,
             "ticks": ""
            },
            "colorscale": [
             [
              0,
              "#0d0887"
             ],
             [
              0.1111111111111111,
              "#46039f"
             ],
             [
              0.2222222222222222,
              "#7201a8"
             ],
             [
              0.3333333333333333,
              "#9c179e"
             ],
             [
              0.4444444444444444,
              "#bd3786"
             ],
             [
              0.5555555555555556,
              "#d8576b"
             ],
             [
              0.6666666666666666,
              "#ed7953"
             ],
             [
              0.7777777777777778,
              "#fb9f3a"
             ],
             [
              0.8888888888888888,
              "#fdca26"
             ],
             [
              1,
              "#f0f921"
             ]
            ],
            "type": "surface"
           }
          ],
          "table": [
           {
            "cells": {
             "fill": {
              "color": "#EBF0F8"
             },
             "line": {
              "color": "white"
             }
            },
            "header": {
             "fill": {
              "color": "#C8D4E3"
             },
             "line": {
              "color": "white"
             }
            },
            "type": "table"
           }
          ]
         },
         "layout": {
          "annotationdefaults": {
           "arrowcolor": "#2a3f5f",
           "arrowhead": 0,
           "arrowwidth": 1
          },
          "autotypenumbers": "strict",
          "coloraxis": {
           "colorbar": {
            "outlinewidth": 0,
            "ticks": ""
           }
          },
          "colorscale": {
           "diverging": [
            [
             0,
             "#8e0152"
            ],
            [
             0.1,
             "#c51b7d"
            ],
            [
             0.2,
             "#de77ae"
            ],
            [
             0.3,
             "#f1b6da"
            ],
            [
             0.4,
             "#fde0ef"
            ],
            [
             0.5,
             "#f7f7f7"
            ],
            [
             0.6,
             "#e6f5d0"
            ],
            [
             0.7,
             "#b8e186"
            ],
            [
             0.8,
             "#7fbc41"
            ],
            [
             0.9,
             "#4d9221"
            ],
            [
             1,
             "#276419"
            ]
           ],
           "sequential": [
            [
             0,
             "#0d0887"
            ],
            [
             0.1111111111111111,
             "#46039f"
            ],
            [
             0.2222222222222222,
             "#7201a8"
            ],
            [
             0.3333333333333333,
             "#9c179e"
            ],
            [
             0.4444444444444444,
             "#bd3786"
            ],
            [
             0.5555555555555556,
             "#d8576b"
            ],
            [
             0.6666666666666666,
             "#ed7953"
            ],
            [
             0.7777777777777778,
             "#fb9f3a"
            ],
            [
             0.8888888888888888,
             "#fdca26"
            ],
            [
             1,
             "#f0f921"
            ]
           ],
           "sequentialminus": [
            [
             0,
             "#0d0887"
            ],
            [
             0.1111111111111111,
             "#46039f"
            ],
            [
             0.2222222222222222,
             "#7201a8"
            ],
            [
             0.3333333333333333,
             "#9c179e"
            ],
            [
             0.4444444444444444,
             "#bd3786"
            ],
            [
             0.5555555555555556,
             "#d8576b"
            ],
            [
             0.6666666666666666,
             "#ed7953"
            ],
            [
             0.7777777777777778,
             "#fb9f3a"
            ],
            [
             0.8888888888888888,
             "#fdca26"
            ],
            [
             1,
             "#f0f921"
            ]
           ]
          },
          "colorway": [
           "#636efa",
           "#EF553B",
           "#00cc96",
           "#ab63fa",
           "#FFA15A",
           "#19d3f3",
           "#FF6692",
           "#B6E880",
           "#FF97FF",
           "#FECB52"
          ],
          "font": {
           "color": "#2a3f5f"
          },
          "geo": {
           "bgcolor": "white",
           "lakecolor": "white",
           "landcolor": "#E5ECF6",
           "showlakes": true,
           "showland": true,
           "subunitcolor": "white"
          },
          "hoverlabel": {
           "align": "left"
          },
          "hovermode": "closest",
          "mapbox": {
           "style": "light"
          },
          "paper_bgcolor": "white",
          "plot_bgcolor": "#E5ECF6",
          "polar": {
           "angularaxis": {
            "gridcolor": "white",
            "linecolor": "white",
            "ticks": ""
           },
           "bgcolor": "#E5ECF6",
           "radialaxis": {
            "gridcolor": "white",
            "linecolor": "white",
            "ticks": ""
           }
          },
          "scene": {
           "xaxis": {
            "backgroundcolor": "#E5ECF6",
            "gridcolor": "white",
            "gridwidth": 2,
            "linecolor": "white",
            "showbackground": true,
            "ticks": "",
            "zerolinecolor": "white"
           },
           "yaxis": {
            "backgroundcolor": "#E5ECF6",
            "gridcolor": "white",
            "gridwidth": 2,
            "linecolor": "white",
            "showbackground": true,
            "ticks": "",
            "zerolinecolor": "white"
           },
           "zaxis": {
            "backgroundcolor": "#E5ECF6",
            "gridcolor": "white",
            "gridwidth": 2,
            "linecolor": "white",
            "showbackground": true,
            "ticks": "",
            "zerolinecolor": "white"
           }
          },
          "shapedefaults": {
           "line": {
            "color": "#2a3f5f"
           }
          },
          "ternary": {
           "aaxis": {
            "gridcolor": "white",
            "linecolor": "white",
            "ticks": ""
           },
           "baxis": {
            "gridcolor": "white",
            "linecolor": "white",
            "ticks": ""
           },
           "bgcolor": "#E5ECF6",
           "caxis": {
            "gridcolor": "white",
            "linecolor": "white",
            "ticks": ""
           }
          },
          "title": {
           "x": 0.05
          },
          "xaxis": {
           "automargin": true,
           "gridcolor": "white",
           "linecolor": "white",
           "ticks": "",
           "title": {
            "standoff": 15
           },
           "zerolinecolor": "white",
           "zerolinewidth": 2
          },
          "yaxis": {
           "automargin": true,
           "gridcolor": "white",
           "linecolor": "white",
           "ticks": "",
           "title": {
            "standoff": 15
           },
           "zerolinecolor": "white",
           "zerolinewidth": 2
          }
         }
        },
        "title": {
         "text": "Corporate Loan Delinquency Rate vs Option-Adjusted Spread (Correlation: 0.608)"
        },
        "xaxis": {
         "anchor": "y",
         "domain": [
          0,
          1
         ],
         "title": {
          "text": "Option-Adjusted Spread"
         }
        },
        "yaxis": {
         "anchor": "x",
         "domain": [
          0,
          1
         ],
         "title": {
          "text": "Delinquency Rate (%)"
         }
        }
       }
      }
     },
     "metadata": {},
     "output_type": "display_data"
    }
   ],
   "source": [
    "# Fourth Cell - Data Analysis (Two Variables)\n",
    "\n",
    "# Create new dataframe with only necessary data\n",
    "df_viz = df.reset_index().copy()\n",
    "df_viz = df_viz[df_viz['date'] >= '1996-12-31']\n",
    "df_viz = df_viz[['quarter', 'period', 'quarterly_spread', 'delinquency_rate_loans']]\n",
    "df_viz = df_viz.drop_duplicates()\n",
    "display(df_viz)\n",
    "spread_loan_correlation = df_viz[['quarterly_spread', 'delinquency_rate_loans']].corr()\n",
    "print(\"Correlation between Option-Adjusted Spread and delinquency rates:\")\n",
    "print(spread_loan_correlation)\n",
    "fig = px.scatter(df_viz,\n",
    "                x='quarterly_spread',\n",
    "                y='delinquency_rate_loans',\n",
    "                color='period',\n",
    "                title=f'Corporate Loan Delinquency Rate vs Option-Adjusted Spread (Correlation: {spread_loan_correlation.iloc[0,1]:.3f})',\n",
    "                labels={'quarterly_spread': 'Option-Adjusted Spread',\n",
    "                       'delinquency_rate_loans': 'Delinquency Rate (%)',\n",
    "                       'period': 'Economic Period'},\n",
    "                trendline=\"ols\",\n",
    "                color_discrete_map={\n",
    "                    'Expansion': 'blue',\n",
    "                    'Dot Com': 'red',\n",
    "                    'Great Recession': 'purple',\n",
    "                    'COVID': 'orange'\n",
    "                })\n",
    "\n",
    "fig.show()"
   ]
  },
  {
   "cell_type": "code",
   "execution_count": 84,
   "metadata": {},
   "outputs": [
    {
     "data": {
      "application/vnd.plotly.v1+json": {
       "config": {
        "plotlyServerURL": "https://plot.ly"
       },
       "data": [
        {
         "name": "Option-Adjusted Spread %",
         "type": "scatter",
         "x": [
          "4Q96",
          "1Q97",
          "2Q97",
          "3Q97",
          "4Q97",
          "1Q98",
          "2Q98",
          "3Q98",
          "4Q98",
          "1Q99",
          "2Q99",
          "3Q99",
          "4Q99",
          "1Q00",
          "2Q00",
          "3Q00",
          "4Q00",
          "1Q01",
          "2Q01",
          "3Q01",
          "4Q01",
          "1Q02",
          "2Q02",
          "3Q02",
          "4Q02",
          "1Q03",
          "2Q03",
          "3Q03",
          "4Q03",
          "1Q04",
          "2Q04",
          "3Q04",
          "4Q04",
          "1Q05",
          "2Q05",
          "3Q05",
          "4Q05",
          "1Q06",
          "2Q06",
          "3Q06",
          "4Q06",
          "1Q07",
          "2Q07",
          "3Q07",
          "4Q07",
          "1Q08",
          "2Q08",
          "3Q08",
          "4Q08",
          "1Q09",
          "2Q09",
          "3Q09",
          "4Q09",
          "1Q10",
          "2Q10",
          "3Q10",
          "4Q10",
          "1Q11",
          "2Q11",
          "3Q11",
          "4Q11",
          "1Q12",
          "2Q12",
          "3Q12",
          "4Q12",
          "1Q13",
          "2Q13",
          "3Q13",
          "4Q13",
          "1Q14",
          "2Q14",
          "3Q14",
          "4Q14",
          "1Q15",
          "2Q15",
          "3Q15",
          "4Q15",
          "1Q16",
          "2Q16",
          "3Q16",
          "4Q16",
          "1Q17",
          "2Q17",
          "3Q17",
          "4Q17",
          "1Q18",
          "2Q18",
          "3Q18",
          "4Q18",
          "1Q19",
          "2Q19",
          "3Q19",
          "4Q19",
          "1Q20",
          "2Q20",
          "3Q20",
          "4Q20",
          "1Q21",
          "2Q21",
          "3Q21",
          "4Q21",
          "1Q22",
          "2Q22",
          "3Q22",
          "4Q22",
          "1Q23",
          "2Q23",
          "3Q23",
          "4Q23",
          "1Q24",
          "2Q24",
          "3Q24",
          "4Q24"
         ],
         "xaxis": "x",
         "y": [
          3.13,
          2.897377049180328,
          2.747230769230769,
          2.620461538461538,
          2.7806060606060607,
          2.926769230769231,
          3.032769230769231,
          4.290454545454546,
          5.904696969696969,
          5.3609230769230765,
          4.804769230769231,
          4.885223880597015,
          4.9491044776119395,
          5.029230769230769,
          5.962615384615384,
          6.316363636363636,
          8.117846153846154,
          8.006,
          8.063846153846153,
          8.465238095238094,
          8.995076923076923,
          7.862698412698412,
          7.372727272727273,
          9.659850746268658,
          9.788787878787877,
          8.216031746031746,
          6.66476923076923,
          5.681641791044776,
          4.610757575757575,
          4.202272727272728,
          4.09796875,
          3.989253731343283,
          3.373333333333333,
          3.075714285714286,
          3.9706060606060607,
          3.50044776119403,
          3.6207692307692305,
          3.37421875,
          3.120307692307692,
          3.4065151515151517,
          3.1316923076923078,
          2.753230769230769,
          2.63734375,
          4.02590909090909,
          5.022,
          7.354603174603175,
          6.935909090909091,
          8.369850746268657,
          17.691363636363636,
          17.04353846153846,
          12.929076923076924,
          9.25090909090909,
          7.423484848484848,
          6.352153846153846,
          6.380625,
          6.6538805970149255,
          5.806865671641791,
          4.875,
          5.004923076923077,
          6.704477611940298,
          7.673692307692308,
          6.335692307692308,
          6.413076923076924,
          5.967878787878788,
          5.5165625,
          4.903968253968253,
          4.723181818181819,
          4.7393846153846155,
          4.328030303030303,
          3.9342857142857146,
          3.6456923076923076,
          3.89134328358209,
          4.683484848484849,
          4.8865625,
          4.5996875,
          5.535757575757576,
          6.402424242424242,
          7.6015625,
          6.328181818181818,
          5.3638805970149255,
          4.634615384615385,
          3.92125,
          3.7975384615384615,
          3.7504545454545455,
          3.591846153846154,
          3.5090625,
          3.4645454545454544,
          3.463030303030303,
          4.070615384615384,
          4.2403125,
          4.0218461538461545,
          4.0823880597014925,
          3.9610769230769227,
          5.1443076923076925,
          7.148923076923077,
          5.369848484848484,
          4.548636363636363,
          3.615846153846154,
          3.2575,
          3.2034328358208954,
          3.2143939393939394,
          3.5590625,
          4.3472307692307695,
          4.931492537313433,
          4.748923076923077,
          4.42390625,
          4.517076923076924,
          3.909242424242424,
          3.9779999999999998,
          3.365,
          3.180151515151515,
          3.259850746268657,
          2.908214285714286
         ],
         "yaxis": "y"
        },
        {
         "name": "Delinquency Rate Loan %",
         "type": "scatter",
         "x": [
          "4Q96",
          "1Q97",
          "2Q97",
          "3Q97",
          "4Q97",
          "1Q98",
          "2Q98",
          "3Q98",
          "4Q98",
          "1Q99",
          "2Q99",
          "3Q99",
          "4Q99",
          "1Q00",
          "2Q00",
          "3Q00",
          "4Q00",
          "1Q01",
          "2Q01",
          "3Q01",
          "4Q01",
          "1Q02",
          "2Q02",
          "3Q02",
          "4Q02",
          "1Q03",
          "2Q03",
          "3Q03",
          "4Q03",
          "1Q04",
          "2Q04",
          "3Q04",
          "4Q04",
          "1Q05",
          "2Q05",
          "3Q05",
          "4Q05",
          "1Q06",
          "2Q06",
          "3Q06",
          "4Q06",
          "1Q07",
          "2Q07",
          "3Q07",
          "4Q07",
          "1Q08",
          "2Q08",
          "3Q08",
          "4Q08",
          "1Q09",
          "2Q09",
          "3Q09",
          "4Q09",
          "1Q10",
          "2Q10",
          "3Q10",
          "4Q10",
          "1Q11",
          "2Q11",
          "3Q11",
          "4Q11",
          "1Q12",
          "2Q12",
          "3Q12",
          "4Q12",
          "1Q13",
          "2Q13",
          "3Q13",
          "4Q13",
          "1Q14",
          "2Q14",
          "3Q14",
          "4Q14",
          "1Q15",
          "2Q15",
          "3Q15",
          "4Q15",
          "1Q16",
          "2Q16",
          "3Q16",
          "4Q16",
          "1Q17",
          "2Q17",
          "3Q17",
          "4Q17",
          "1Q18",
          "2Q18",
          "3Q18",
          "4Q18",
          "1Q19",
          "2Q19",
          "3Q19",
          "4Q19",
          "1Q20",
          "2Q20",
          "3Q20",
          "4Q20",
          "1Q21",
          "2Q21",
          "3Q21",
          "4Q21",
          "1Q22",
          "2Q22",
          "3Q22",
          "4Q22",
          "1Q23",
          "2Q23",
          "3Q23",
          "4Q23",
          "1Q24",
          "2Q24",
          "3Q24",
          "4Q24"
         ],
         "xaxis": "x",
         "y": [
          1.95,
          1.9,
          1.81,
          1.72,
          1.7,
          1.81,
          1.73,
          1.77,
          1.87,
          1.97,
          2,
          2.06,
          1.99,
          2.11,
          2.24,
          2.33,
          2.52,
          2.65,
          2.94,
          3.26,
          3.48,
          3.69,
          3.92,
          3.88,
          3.87,
          3.65,
          3.56,
          3.27,
          2.85,
          2.57,
          2.29,
          2.03,
          1.81,
          1.63,
          1.49,
          1.47,
          1.44,
          1.4,
          1.29,
          1.25,
          1.15,
          1.2,
          1.18,
          1.2,
          1.31,
          1.45,
          1.76,
          1.76,
          2.56,
          3.19,
          3.75,
          4.37,
          4.3,
          3.94,
          3.62,
          3.31,
          2.98,
          2.45,
          2.11,
          1.84,
          1.64,
          1.53,
          1.4,
          1.25,
          1.18,
          1.11,
          1.04,
          0.98,
          0.89,
          0.9,
          0.8,
          0.77,
          0.72,
          0.75,
          0.81,
          0.9,
          1.02,
          1.5,
          1.6,
          1.59,
          1.58,
          1.54,
          1.36,
          1.27,
          1.17,
          1.11,
          1.08,
          0.99,
          0.93,
          1.16,
          1.07,
          1.12,
          1.09,
          1.14,
          1.28,
          1.3,
          1.24,
          1.16,
          1.06,
          1.03,
          1.12,
          1.06,
          1.03,
          1.11,
          1.03,
          0.97,
          1,
          0.97,
          1.03,
          1.12,
          1.13,
          1.13,
          1.13
         ],
         "yaxis": "y2"
        }
       ],
       "layout": {
        "template": {
         "data": {
          "bar": [
           {
            "error_x": {
             "color": "#2a3f5f"
            },
            "error_y": {
             "color": "#2a3f5f"
            },
            "marker": {
             "line": {
              "color": "#E5ECF6",
              "width": 0.5
             },
             "pattern": {
              "fillmode": "overlay",
              "size": 10,
              "solidity": 0.2
             }
            },
            "type": "bar"
           }
          ],
          "barpolar": [
           {
            "marker": {
             "line": {
              "color": "#E5ECF6",
              "width": 0.5
             },
             "pattern": {
              "fillmode": "overlay",
              "size": 10,
              "solidity": 0.2
             }
            },
            "type": "barpolar"
           }
          ],
          "carpet": [
           {
            "aaxis": {
             "endlinecolor": "#2a3f5f",
             "gridcolor": "white",
             "linecolor": "white",
             "minorgridcolor": "white",
             "startlinecolor": "#2a3f5f"
            },
            "baxis": {
             "endlinecolor": "#2a3f5f",
             "gridcolor": "white",
             "linecolor": "white",
             "minorgridcolor": "white",
             "startlinecolor": "#2a3f5f"
            },
            "type": "carpet"
           }
          ],
          "choropleth": [
           {
            "colorbar": {
             "outlinewidth": 0,
             "ticks": ""
            },
            "type": "choropleth"
           }
          ],
          "contour": [
           {
            "colorbar": {
             "outlinewidth": 0,
             "ticks": ""
            },
            "colorscale": [
             [
              0,
              "#0d0887"
             ],
             [
              0.1111111111111111,
              "#46039f"
             ],
             [
              0.2222222222222222,
              "#7201a8"
             ],
             [
              0.3333333333333333,
              "#9c179e"
             ],
             [
              0.4444444444444444,
              "#bd3786"
             ],
             [
              0.5555555555555556,
              "#d8576b"
             ],
             [
              0.6666666666666666,
              "#ed7953"
             ],
             [
              0.7777777777777778,
              "#fb9f3a"
             ],
             [
              0.8888888888888888,
              "#fdca26"
             ],
             [
              1,
              "#f0f921"
             ]
            ],
            "type": "contour"
           }
          ],
          "contourcarpet": [
           {
            "colorbar": {
             "outlinewidth": 0,
             "ticks": ""
            },
            "type": "contourcarpet"
           }
          ],
          "heatmap": [
           {
            "colorbar": {
             "outlinewidth": 0,
             "ticks": ""
            },
            "colorscale": [
             [
              0,
              "#0d0887"
             ],
             [
              0.1111111111111111,
              "#46039f"
             ],
             [
              0.2222222222222222,
              "#7201a8"
             ],
             [
              0.3333333333333333,
              "#9c179e"
             ],
             [
              0.4444444444444444,
              "#bd3786"
             ],
             [
              0.5555555555555556,
              "#d8576b"
             ],
             [
              0.6666666666666666,
              "#ed7953"
             ],
             [
              0.7777777777777778,
              "#fb9f3a"
             ],
             [
              0.8888888888888888,
              "#fdca26"
             ],
             [
              1,
              "#f0f921"
             ]
            ],
            "type": "heatmap"
           }
          ],
          "heatmapgl": [
           {
            "colorbar": {
             "outlinewidth": 0,
             "ticks": ""
            },
            "colorscale": [
             [
              0,
              "#0d0887"
             ],
             [
              0.1111111111111111,
              "#46039f"
             ],
             [
              0.2222222222222222,
              "#7201a8"
             ],
             [
              0.3333333333333333,
              "#9c179e"
             ],
             [
              0.4444444444444444,
              "#bd3786"
             ],
             [
              0.5555555555555556,
              "#d8576b"
             ],
             [
              0.6666666666666666,
              "#ed7953"
             ],
             [
              0.7777777777777778,
              "#fb9f3a"
             ],
             [
              0.8888888888888888,
              "#fdca26"
             ],
             [
              1,
              "#f0f921"
             ]
            ],
            "type": "heatmapgl"
           }
          ],
          "histogram": [
           {
            "marker": {
             "pattern": {
              "fillmode": "overlay",
              "size": 10,
              "solidity": 0.2
             }
            },
            "type": "histogram"
           }
          ],
          "histogram2d": [
           {
            "colorbar": {
             "outlinewidth": 0,
             "ticks": ""
            },
            "colorscale": [
             [
              0,
              "#0d0887"
             ],
             [
              0.1111111111111111,
              "#46039f"
             ],
             [
              0.2222222222222222,
              "#7201a8"
             ],
             [
              0.3333333333333333,
              "#9c179e"
             ],
             [
              0.4444444444444444,
              "#bd3786"
             ],
             [
              0.5555555555555556,
              "#d8576b"
             ],
             [
              0.6666666666666666,
              "#ed7953"
             ],
             [
              0.7777777777777778,
              "#fb9f3a"
             ],
             [
              0.8888888888888888,
              "#fdca26"
             ],
             [
              1,
              "#f0f921"
             ]
            ],
            "type": "histogram2d"
           }
          ],
          "histogram2dcontour": [
           {
            "colorbar": {
             "outlinewidth": 0,
             "ticks": ""
            },
            "colorscale": [
             [
              0,
              "#0d0887"
             ],
             [
              0.1111111111111111,
              "#46039f"
             ],
             [
              0.2222222222222222,
              "#7201a8"
             ],
             [
              0.3333333333333333,
              "#9c179e"
             ],
             [
              0.4444444444444444,
              "#bd3786"
             ],
             [
              0.5555555555555556,
              "#d8576b"
             ],
             [
              0.6666666666666666,
              "#ed7953"
             ],
             [
              0.7777777777777778,
              "#fb9f3a"
             ],
             [
              0.8888888888888888,
              "#fdca26"
             ],
             [
              1,
              "#f0f921"
             ]
            ],
            "type": "histogram2dcontour"
           }
          ],
          "mesh3d": [
           {
            "colorbar": {
             "outlinewidth": 0,
             "ticks": ""
            },
            "type": "mesh3d"
           }
          ],
          "parcoords": [
           {
            "line": {
             "colorbar": {
              "outlinewidth": 0,
              "ticks": ""
             }
            },
            "type": "parcoords"
           }
          ],
          "pie": [
           {
            "automargin": true,
            "type": "pie"
           }
          ],
          "scatter": [
           {
            "fillpattern": {
             "fillmode": "overlay",
             "size": 10,
             "solidity": 0.2
            },
            "type": "scatter"
           }
          ],
          "scatter3d": [
           {
            "line": {
             "colorbar": {
              "outlinewidth": 0,
              "ticks": ""
             }
            },
            "marker": {
             "colorbar": {
              "outlinewidth": 0,
              "ticks": ""
             }
            },
            "type": "scatter3d"
           }
          ],
          "scattercarpet": [
           {
            "marker": {
             "colorbar": {
              "outlinewidth": 0,
              "ticks": ""
             }
            },
            "type": "scattercarpet"
           }
          ],
          "scattergeo": [
           {
            "marker": {
             "colorbar": {
              "outlinewidth": 0,
              "ticks": ""
             }
            },
            "type": "scattergeo"
           }
          ],
          "scattergl": [
           {
            "marker": {
             "colorbar": {
              "outlinewidth": 0,
              "ticks": ""
             }
            },
            "type": "scattergl"
           }
          ],
          "scattermapbox": [
           {
            "marker": {
             "colorbar": {
              "outlinewidth": 0,
              "ticks": ""
             }
            },
            "type": "scattermapbox"
           }
          ],
          "scatterpolar": [
           {
            "marker": {
             "colorbar": {
              "outlinewidth": 0,
              "ticks": ""
             }
            },
            "type": "scatterpolar"
           }
          ],
          "scatterpolargl": [
           {
            "marker": {
             "colorbar": {
              "outlinewidth": 0,
              "ticks": ""
             }
            },
            "type": "scatterpolargl"
           }
          ],
          "scatterternary": [
           {
            "marker": {
             "colorbar": {
              "outlinewidth": 0,
              "ticks": ""
             }
            },
            "type": "scatterternary"
           }
          ],
          "surface": [
           {
            "colorbar": {
             "outlinewidth": 0,
             "ticks": ""
            },
            "colorscale": [
             [
              0,
              "#0d0887"
             ],
             [
              0.1111111111111111,
              "#46039f"
             ],
             [
              0.2222222222222222,
              "#7201a8"
             ],
             [
              0.3333333333333333,
              "#9c179e"
             ],
             [
              0.4444444444444444,
              "#bd3786"
             ],
             [
              0.5555555555555556,
              "#d8576b"
             ],
             [
              0.6666666666666666,
              "#ed7953"
             ],
             [
              0.7777777777777778,
              "#fb9f3a"
             ],
             [
              0.8888888888888888,
              "#fdca26"
             ],
             [
              1,
              "#f0f921"
             ]
            ],
            "type": "surface"
           }
          ],
          "table": [
           {
            "cells": {
             "fill": {
              "color": "#EBF0F8"
             },
             "line": {
              "color": "white"
             }
            },
            "header": {
             "fill": {
              "color": "#C8D4E3"
             },
             "line": {
              "color": "white"
             }
            },
            "type": "table"
           }
          ]
         },
         "layout": {
          "annotationdefaults": {
           "arrowcolor": "#2a3f5f",
           "arrowhead": 0,
           "arrowwidth": 1
          },
          "autotypenumbers": "strict",
          "coloraxis": {
           "colorbar": {
            "outlinewidth": 0,
            "ticks": ""
           }
          },
          "colorscale": {
           "diverging": [
            [
             0,
             "#8e0152"
            ],
            [
             0.1,
             "#c51b7d"
            ],
            [
             0.2,
             "#de77ae"
            ],
            [
             0.3,
             "#f1b6da"
            ],
            [
             0.4,
             "#fde0ef"
            ],
            [
             0.5,
             "#f7f7f7"
            ],
            [
             0.6,
             "#e6f5d0"
            ],
            [
             0.7,
             "#b8e186"
            ],
            [
             0.8,
             "#7fbc41"
            ],
            [
             0.9,
             "#4d9221"
            ],
            [
             1,
             "#276419"
            ]
           ],
           "sequential": [
            [
             0,
             "#0d0887"
            ],
            [
             0.1111111111111111,
             "#46039f"
            ],
            [
             0.2222222222222222,
             "#7201a8"
            ],
            [
             0.3333333333333333,
             "#9c179e"
            ],
            [
             0.4444444444444444,
             "#bd3786"
            ],
            [
             0.5555555555555556,
             "#d8576b"
            ],
            [
             0.6666666666666666,
             "#ed7953"
            ],
            [
             0.7777777777777778,
             "#fb9f3a"
            ],
            [
             0.8888888888888888,
             "#fdca26"
            ],
            [
             1,
             "#f0f921"
            ]
           ],
           "sequentialminus": [
            [
             0,
             "#0d0887"
            ],
            [
             0.1111111111111111,
             "#46039f"
            ],
            [
             0.2222222222222222,
             "#7201a8"
            ],
            [
             0.3333333333333333,
             "#9c179e"
            ],
            [
             0.4444444444444444,
             "#bd3786"
            ],
            [
             0.5555555555555556,
             "#d8576b"
            ],
            [
             0.6666666666666666,
             "#ed7953"
            ],
            [
             0.7777777777777778,
             "#fb9f3a"
            ],
            [
             0.8888888888888888,
             "#fdca26"
            ],
            [
             1,
             "#f0f921"
            ]
           ]
          },
          "colorway": [
           "#636efa",
           "#EF553B",
           "#00cc96",
           "#ab63fa",
           "#FFA15A",
           "#19d3f3",
           "#FF6692",
           "#B6E880",
           "#FF97FF",
           "#FECB52"
          ],
          "font": {
           "color": "#2a3f5f"
          },
          "geo": {
           "bgcolor": "white",
           "lakecolor": "white",
           "landcolor": "#E5ECF6",
           "showlakes": true,
           "showland": true,
           "subunitcolor": "white"
          },
          "hoverlabel": {
           "align": "left"
          },
          "hovermode": "closest",
          "mapbox": {
           "style": "light"
          },
          "paper_bgcolor": "white",
          "plot_bgcolor": "#E5ECF6",
          "polar": {
           "angularaxis": {
            "gridcolor": "white",
            "linecolor": "white",
            "ticks": ""
           },
           "bgcolor": "#E5ECF6",
           "radialaxis": {
            "gridcolor": "white",
            "linecolor": "white",
            "ticks": ""
           }
          },
          "scene": {
           "xaxis": {
            "backgroundcolor": "#E5ECF6",
            "gridcolor": "white",
            "gridwidth": 2,
            "linecolor": "white",
            "showbackground": true,
            "ticks": "",
            "zerolinecolor": "white"
           },
           "yaxis": {
            "backgroundcolor": "#E5ECF6",
            "gridcolor": "white",
            "gridwidth": 2,
            "linecolor": "white",
            "showbackground": true,
            "ticks": "",
            "zerolinecolor": "white"
           },
           "zaxis": {
            "backgroundcolor": "#E5ECF6",
            "gridcolor": "white",
            "gridwidth": 2,
            "linecolor": "white",
            "showbackground": true,
            "ticks": "",
            "zerolinecolor": "white"
           }
          },
          "shapedefaults": {
           "line": {
            "color": "#2a3f5f"
           }
          },
          "ternary": {
           "aaxis": {
            "gridcolor": "white",
            "linecolor": "white",
            "ticks": ""
           },
           "baxis": {
            "gridcolor": "white",
            "linecolor": "white",
            "ticks": ""
           },
           "bgcolor": "#E5ECF6",
           "caxis": {
            "gridcolor": "white",
            "linecolor": "white",
            "ticks": ""
           }
          },
          "title": {
           "x": 0.05
          },
          "xaxis": {
           "automargin": true,
           "gridcolor": "white",
           "linecolor": "white",
           "ticks": "",
           "title": {
            "standoff": 15
           },
           "zerolinecolor": "white",
           "zerolinewidth": 2
          },
          "yaxis": {
           "automargin": true,
           "gridcolor": "white",
           "linecolor": "white",
           "ticks": "",
           "title": {
            "standoff": 15
           },
           "zerolinecolor": "white",
           "zerolinewidth": 2
          }
         }
        },
        "title": {
         "text": "Option-Adjusted Spread vs Corporate Loan Delinquency"
        },
        "xaxis": {
         "anchor": "y",
         "domain": [
          0,
          0.94
         ]
        },
        "yaxis": {
         "anchor": "x",
         "domain": [
          0,
          1
         ],
         "title": {
          "text": "Option-Adjusted Spread (%)"
         }
        },
        "yaxis2": {
         "anchor": "x",
         "overlaying": "y",
         "side": "right",
         "title": {
          "text": "Delinquency Rate (%)"
         }
        }
       }
      }
     },
     "metadata": {},
     "output_type": "display_data"
    },
    {
     "data": {
      "application/vnd.plotly.v1+json": {
       "config": {
        "plotlyServerURL": "https://plot.ly"
       },
       "data": [
        {
         "cells": {
          "align": "left",
          "fill": {
           "color": "lavender"
          },
          "values": [
           [
            "4Q96",
            "1Q97",
            "2Q97",
            "3Q97",
            "4Q97",
            "1Q98",
            "2Q98",
            "3Q98",
            "4Q98",
            "1Q99",
            "2Q99",
            "3Q99",
            "4Q99",
            "1Q00",
            "2Q00",
            "3Q00",
            "4Q00",
            "1Q01",
            "2Q01",
            "3Q01",
            "4Q01",
            "1Q02",
            "2Q02",
            "3Q02",
            "4Q02",
            "1Q03",
            "2Q03",
            "3Q03",
            "4Q03",
            "1Q04",
            "2Q04",
            "3Q04",
            "4Q04",
            "1Q05",
            "2Q05",
            "3Q05",
            "4Q05",
            "1Q06",
            "2Q06",
            "3Q06",
            "4Q06",
            "1Q07",
            "2Q07",
            "3Q07",
            "4Q07",
            "1Q08",
            "2Q08",
            "3Q08",
            "4Q08",
            "1Q09",
            "2Q09",
            "3Q09",
            "4Q09",
            "1Q10",
            "2Q10",
            "3Q10",
            "4Q10",
            "1Q11",
            "2Q11",
            "3Q11",
            "4Q11",
            "1Q12",
            "2Q12",
            "3Q12",
            "4Q12",
            "1Q13",
            "2Q13",
            "3Q13",
            "4Q13",
            "1Q14",
            "2Q14",
            "3Q14",
            "4Q14",
            "1Q15",
            "2Q15",
            "3Q15",
            "4Q15",
            "1Q16",
            "2Q16",
            "3Q16",
            "4Q16",
            "1Q17",
            "2Q17",
            "3Q17",
            "4Q17",
            "1Q18",
            "2Q18",
            "3Q18",
            "4Q18",
            "1Q19",
            "2Q19",
            "3Q19",
            "4Q19",
            "1Q20",
            "2Q20",
            "3Q20",
            "4Q20",
            "1Q21",
            "2Q21",
            "3Q21",
            "4Q21",
            "1Q22",
            "2Q22",
            "3Q22",
            "4Q22",
            "1Q23",
            "2Q23",
            "3Q23",
            "4Q23",
            "1Q24",
            "2Q24",
            "3Q24",
            "4Q24"
           ],
           [
            "Expansion",
            "Expansion",
            "Expansion",
            "Expansion",
            "Expansion",
            "Expansion",
            "Expansion",
            "Expansion",
            "Expansion",
            "Expansion",
            "Expansion",
            "Expansion",
            "Expansion",
            "Expansion",
            "Expansion",
            "Expansion",
            "Expansion",
            "Dot Com",
            "Dot Com",
            "Dot Com",
            "Dot Com",
            "Expansion",
            "Expansion",
            "Expansion",
            "Expansion",
            "Expansion",
            "Expansion",
            "Expansion",
            "Expansion",
            "Expansion",
            "Expansion",
            "Expansion",
            "Expansion",
            "Expansion",
            "Expansion",
            "Expansion",
            "Expansion",
            "Expansion",
            "Expansion",
            "Expansion",
            "Expansion",
            "Expansion",
            "Expansion",
            "Expansion",
            "Great Recession",
            "Great Recession",
            "Great Recession",
            "Great Recession",
            "Great Recession",
            "Great Recession",
            "Great Recession",
            "Expansion",
            "Expansion",
            "Expansion",
            "Expansion",
            "Expansion",
            "Expansion",
            "Expansion",
            "Expansion",
            "Expansion",
            "Expansion",
            "Expansion",
            "Expansion",
            "Expansion",
            "Expansion",
            "Expansion",
            "Expansion",
            "Expansion",
            "Expansion",
            "Expansion",
            "Expansion",
            "Expansion",
            "Expansion",
            "Expansion",
            "Expansion",
            "Expansion",
            "Expansion",
            "Expansion",
            "Expansion",
            "Expansion",
            "Expansion",
            "Expansion",
            "Expansion",
            "Expansion",
            "Expansion",
            "Expansion",
            "Expansion",
            "Expansion",
            "Expansion",
            "Expansion",
            "Expansion",
            "Expansion",
            "Expansion",
            "COVID",
            "COVID",
            "Expansion",
            "Expansion",
            "Expansion",
            "Expansion",
            "Expansion",
            "Expansion",
            "Expansion",
            "Expansion",
            "Expansion",
            "Expansion",
            "Expansion",
            "Expansion",
            "Expansion",
            "Expansion",
            "Expansion",
            "Expansion",
            "Expansion",
            "Expansion"
           ],
           [
            3.13,
            2.897377049180328,
            2.747230769230769,
            2.620461538461538,
            2.7806060606060607,
            2.926769230769231,
            3.032769230769231,
            4.290454545454546,
            5.904696969696969,
            5.3609230769230765,
            4.804769230769231,
            4.885223880597015,
            4.9491044776119395,
            5.029230769230769,
            5.962615384615384,
            6.316363636363636,
            8.117846153846154,
            8.006,
            8.063846153846153,
            8.465238095238094,
            8.995076923076923,
            7.862698412698412,
            7.372727272727273,
            9.659850746268658,
            9.788787878787877,
            8.216031746031746,
            6.66476923076923,
            5.681641791044776,
            4.610757575757575,
            4.202272727272728,
            4.09796875,
            3.989253731343283,
            3.373333333333333,
            3.075714285714286,
            3.9706060606060607,
            3.50044776119403,
            3.6207692307692305,
            3.37421875,
            3.120307692307692,
            3.4065151515151517,
            3.1316923076923078,
            2.753230769230769,
            2.63734375,
            4.02590909090909,
            5.022,
            7.354603174603175,
            6.935909090909091,
            8.369850746268657,
            17.691363636363636,
            17.04353846153846,
            12.929076923076924,
            9.25090909090909,
            7.423484848484848,
            6.352153846153846,
            6.380625,
            6.6538805970149255,
            5.806865671641791,
            4.875,
            5.004923076923077,
            6.704477611940298,
            7.673692307692308,
            6.335692307692308,
            6.413076923076924,
            5.967878787878788,
            5.5165625,
            4.903968253968253,
            4.723181818181819,
            4.7393846153846155,
            4.328030303030303,
            3.9342857142857146,
            3.6456923076923076,
            3.89134328358209,
            4.683484848484849,
            4.8865625,
            4.5996875,
            5.535757575757576,
            6.402424242424242,
            7.6015625,
            6.328181818181818,
            5.3638805970149255,
            4.634615384615385,
            3.92125,
            3.7975384615384615,
            3.7504545454545455,
            3.591846153846154,
            3.5090625,
            3.4645454545454544,
            3.463030303030303,
            4.070615384615384,
            4.2403125,
            4.0218461538461545,
            4.0823880597014925,
            3.9610769230769227,
            5.1443076923076925,
            7.148923076923077,
            5.369848484848484,
            4.548636363636363,
            3.615846153846154,
            3.2575,
            3.2034328358208954,
            3.2143939393939394,
            3.5590625,
            4.3472307692307695,
            4.931492537313433,
            4.748923076923077,
            4.42390625,
            4.517076923076924,
            3.909242424242424,
            3.9779999999999998,
            3.365,
            3.180151515151515,
            3.259850746268657,
            2.908214285714286
           ],
           [
            1.95,
            1.9,
            1.81,
            1.72,
            1.7,
            1.81,
            1.73,
            1.77,
            1.87,
            1.97,
            2,
            2.06,
            1.99,
            2.11,
            2.24,
            2.33,
            2.52,
            2.65,
            2.94,
            3.26,
            3.48,
            3.69,
            3.92,
            3.88,
            3.87,
            3.65,
            3.56,
            3.27,
            2.85,
            2.57,
            2.29,
            2.03,
            1.81,
            1.63,
            1.49,
            1.47,
            1.44,
            1.4,
            1.29,
            1.25,
            1.15,
            1.2,
            1.18,
            1.2,
            1.31,
            1.45,
            1.76,
            1.76,
            2.56,
            3.19,
            3.75,
            4.37,
            4.3,
            3.94,
            3.62,
            3.31,
            2.98,
            2.45,
            2.11,
            1.84,
            1.64,
            1.53,
            1.4,
            1.25,
            1.18,
            1.11,
            1.04,
            0.98,
            0.89,
            0.9,
            0.8,
            0.77,
            0.72,
            0.75,
            0.81,
            0.9,
            1.02,
            1.5,
            1.6,
            1.59,
            1.58,
            1.54,
            1.36,
            1.27,
            1.17,
            1.11,
            1.08,
            0.99,
            0.93,
            1.16,
            1.07,
            1.12,
            1.09,
            1.14,
            1.28,
            1.3,
            1.24,
            1.16,
            1.06,
            1.03,
            1.12,
            1.06,
            1.03,
            1.11,
            1.03,
            0.97,
            1,
            0.97,
            1.03,
            1.12,
            1.13,
            1.13,
            1.13
           ]
          ]
         },
         "header": {
          "align": "left",
          "fill": {
           "color": "paleturquoise"
          },
          "values": [
           "quarter",
           "period",
           "quarterly_spread",
           "delinquency_rate_loans"
          ]
         },
         "type": "table"
        }
       ],
       "layout": {
        "template": {
         "data": {
          "bar": [
           {
            "error_x": {
             "color": "#2a3f5f"
            },
            "error_y": {
             "color": "#2a3f5f"
            },
            "marker": {
             "line": {
              "color": "#E5ECF6",
              "width": 0.5
             },
             "pattern": {
              "fillmode": "overlay",
              "size": 10,
              "solidity": 0.2
             }
            },
            "type": "bar"
           }
          ],
          "barpolar": [
           {
            "marker": {
             "line": {
              "color": "#E5ECF6",
              "width": 0.5
             },
             "pattern": {
              "fillmode": "overlay",
              "size": 10,
              "solidity": 0.2
             }
            },
            "type": "barpolar"
           }
          ],
          "carpet": [
           {
            "aaxis": {
             "endlinecolor": "#2a3f5f",
             "gridcolor": "white",
             "linecolor": "white",
             "minorgridcolor": "white",
             "startlinecolor": "#2a3f5f"
            },
            "baxis": {
             "endlinecolor": "#2a3f5f",
             "gridcolor": "white",
             "linecolor": "white",
             "minorgridcolor": "white",
             "startlinecolor": "#2a3f5f"
            },
            "type": "carpet"
           }
          ],
          "choropleth": [
           {
            "colorbar": {
             "outlinewidth": 0,
             "ticks": ""
            },
            "type": "choropleth"
           }
          ],
          "contour": [
           {
            "colorbar": {
             "outlinewidth": 0,
             "ticks": ""
            },
            "colorscale": [
             [
              0,
              "#0d0887"
             ],
             [
              0.1111111111111111,
              "#46039f"
             ],
             [
              0.2222222222222222,
              "#7201a8"
             ],
             [
              0.3333333333333333,
              "#9c179e"
             ],
             [
              0.4444444444444444,
              "#bd3786"
             ],
             [
              0.5555555555555556,
              "#d8576b"
             ],
             [
              0.6666666666666666,
              "#ed7953"
             ],
             [
              0.7777777777777778,
              "#fb9f3a"
             ],
             [
              0.8888888888888888,
              "#fdca26"
             ],
             [
              1,
              "#f0f921"
             ]
            ],
            "type": "contour"
           }
          ],
          "contourcarpet": [
           {
            "colorbar": {
             "outlinewidth": 0,
             "ticks": ""
            },
            "type": "contourcarpet"
           }
          ],
          "heatmap": [
           {
            "colorbar": {
             "outlinewidth": 0,
             "ticks": ""
            },
            "colorscale": [
             [
              0,
              "#0d0887"
             ],
             [
              0.1111111111111111,
              "#46039f"
             ],
             [
              0.2222222222222222,
              "#7201a8"
             ],
             [
              0.3333333333333333,
              "#9c179e"
             ],
             [
              0.4444444444444444,
              "#bd3786"
             ],
             [
              0.5555555555555556,
              "#d8576b"
             ],
             [
              0.6666666666666666,
              "#ed7953"
             ],
             [
              0.7777777777777778,
              "#fb9f3a"
             ],
             [
              0.8888888888888888,
              "#fdca26"
             ],
             [
              1,
              "#f0f921"
             ]
            ],
            "type": "heatmap"
           }
          ],
          "heatmapgl": [
           {
            "colorbar": {
             "outlinewidth": 0,
             "ticks": ""
            },
            "colorscale": [
             [
              0,
              "#0d0887"
             ],
             [
              0.1111111111111111,
              "#46039f"
             ],
             [
              0.2222222222222222,
              "#7201a8"
             ],
             [
              0.3333333333333333,
              "#9c179e"
             ],
             [
              0.4444444444444444,
              "#bd3786"
             ],
             [
              0.5555555555555556,
              "#d8576b"
             ],
             [
              0.6666666666666666,
              "#ed7953"
             ],
             [
              0.7777777777777778,
              "#fb9f3a"
             ],
             [
              0.8888888888888888,
              "#fdca26"
             ],
             [
              1,
              "#f0f921"
             ]
            ],
            "type": "heatmapgl"
           }
          ],
          "histogram": [
           {
            "marker": {
             "pattern": {
              "fillmode": "overlay",
              "size": 10,
              "solidity": 0.2
             }
            },
            "type": "histogram"
           }
          ],
          "histogram2d": [
           {
            "colorbar": {
             "outlinewidth": 0,
             "ticks": ""
            },
            "colorscale": [
             [
              0,
              "#0d0887"
             ],
             [
              0.1111111111111111,
              "#46039f"
             ],
             [
              0.2222222222222222,
              "#7201a8"
             ],
             [
              0.3333333333333333,
              "#9c179e"
             ],
             [
              0.4444444444444444,
              "#bd3786"
             ],
             [
              0.5555555555555556,
              "#d8576b"
             ],
             [
              0.6666666666666666,
              "#ed7953"
             ],
             [
              0.7777777777777778,
              "#fb9f3a"
             ],
             [
              0.8888888888888888,
              "#fdca26"
             ],
             [
              1,
              "#f0f921"
             ]
            ],
            "type": "histogram2d"
           }
          ],
          "histogram2dcontour": [
           {
            "colorbar": {
             "outlinewidth": 0,
             "ticks": ""
            },
            "colorscale": [
             [
              0,
              "#0d0887"
             ],
             [
              0.1111111111111111,
              "#46039f"
             ],
             [
              0.2222222222222222,
              "#7201a8"
             ],
             [
              0.3333333333333333,
              "#9c179e"
             ],
             [
              0.4444444444444444,
              "#bd3786"
             ],
             [
              0.5555555555555556,
              "#d8576b"
             ],
             [
              0.6666666666666666,
              "#ed7953"
             ],
             [
              0.7777777777777778,
              "#fb9f3a"
             ],
             [
              0.8888888888888888,
              "#fdca26"
             ],
             [
              1,
              "#f0f921"
             ]
            ],
            "type": "histogram2dcontour"
           }
          ],
          "mesh3d": [
           {
            "colorbar": {
             "outlinewidth": 0,
             "ticks": ""
            },
            "type": "mesh3d"
           }
          ],
          "parcoords": [
           {
            "line": {
             "colorbar": {
              "outlinewidth": 0,
              "ticks": ""
             }
            },
            "type": "parcoords"
           }
          ],
          "pie": [
           {
            "automargin": true,
            "type": "pie"
           }
          ],
          "scatter": [
           {
            "fillpattern": {
             "fillmode": "overlay",
             "size": 10,
             "solidity": 0.2
            },
            "type": "scatter"
           }
          ],
          "scatter3d": [
           {
            "line": {
             "colorbar": {
              "outlinewidth": 0,
              "ticks": ""
             }
            },
            "marker": {
             "colorbar": {
              "outlinewidth": 0,
              "ticks": ""
             }
            },
            "type": "scatter3d"
           }
          ],
          "scattercarpet": [
           {
            "marker": {
             "colorbar": {
              "outlinewidth": 0,
              "ticks": ""
             }
            },
            "type": "scattercarpet"
           }
          ],
          "scattergeo": [
           {
            "marker": {
             "colorbar": {
              "outlinewidth": 0,
              "ticks": ""
             }
            },
            "type": "scattergeo"
           }
          ],
          "scattergl": [
           {
            "marker": {
             "colorbar": {
              "outlinewidth": 0,
              "ticks": ""
             }
            },
            "type": "scattergl"
           }
          ],
          "scattermapbox": [
           {
            "marker": {
             "colorbar": {
              "outlinewidth": 0,
              "ticks": ""
             }
            },
            "type": "scattermapbox"
           }
          ],
          "scatterpolar": [
           {
            "marker": {
             "colorbar": {
              "outlinewidth": 0,
              "ticks": ""
             }
            },
            "type": "scatterpolar"
           }
          ],
          "scatterpolargl": [
           {
            "marker": {
             "colorbar": {
              "outlinewidth": 0,
              "ticks": ""
             }
            },
            "type": "scatterpolargl"
           }
          ],
          "scatterternary": [
           {
            "marker": {
             "colorbar": {
              "outlinewidth": 0,
              "ticks": ""
             }
            },
            "type": "scatterternary"
           }
          ],
          "surface": [
           {
            "colorbar": {
             "outlinewidth": 0,
             "ticks": ""
            },
            "colorscale": [
             [
              0,
              "#0d0887"
             ],
             [
              0.1111111111111111,
              "#46039f"
             ],
             [
              0.2222222222222222,
              "#7201a8"
             ],
             [
              0.3333333333333333,
              "#9c179e"
             ],
             [
              0.4444444444444444,
              "#bd3786"
             ],
             [
              0.5555555555555556,
              "#d8576b"
             ],
             [
              0.6666666666666666,
              "#ed7953"
             ],
             [
              0.7777777777777778,
              "#fb9f3a"
             ],
             [
              0.8888888888888888,
              "#fdca26"
             ],
             [
              1,
              "#f0f921"
             ]
            ],
            "type": "surface"
           }
          ],
          "table": [
           {
            "cells": {
             "fill": {
              "color": "#EBF0F8"
             },
             "line": {
              "color": "white"
             }
            },
            "header": {
             "fill": {
              "color": "#C8D4E3"
             },
             "line": {
              "color": "white"
             }
            },
            "type": "table"
           }
          ]
         },
         "layout": {
          "annotationdefaults": {
           "arrowcolor": "#2a3f5f",
           "arrowhead": 0,
           "arrowwidth": 1
          },
          "autotypenumbers": "strict",
          "coloraxis": {
           "colorbar": {
            "outlinewidth": 0,
            "ticks": ""
           }
          },
          "colorscale": {
           "diverging": [
            [
             0,
             "#8e0152"
            ],
            [
             0.1,
             "#c51b7d"
            ],
            [
             0.2,
             "#de77ae"
            ],
            [
             0.3,
             "#f1b6da"
            ],
            [
             0.4,
             "#fde0ef"
            ],
            [
             0.5,
             "#f7f7f7"
            ],
            [
             0.6,
             "#e6f5d0"
            ],
            [
             0.7,
             "#b8e186"
            ],
            [
             0.8,
             "#7fbc41"
            ],
            [
             0.9,
             "#4d9221"
            ],
            [
             1,
             "#276419"
            ]
           ],
           "sequential": [
            [
             0,
             "#0d0887"
            ],
            [
             0.1111111111111111,
             "#46039f"
            ],
            [
             0.2222222222222222,
             "#7201a8"
            ],
            [
             0.3333333333333333,
             "#9c179e"
            ],
            [
             0.4444444444444444,
             "#bd3786"
            ],
            [
             0.5555555555555556,
             "#d8576b"
            ],
            [
             0.6666666666666666,
             "#ed7953"
            ],
            [
             0.7777777777777778,
             "#fb9f3a"
            ],
            [
             0.8888888888888888,
             "#fdca26"
            ],
            [
             1,
             "#f0f921"
            ]
           ],
           "sequentialminus": [
            [
             0,
             "#0d0887"
            ],
            [
             0.1111111111111111,
             "#46039f"
            ],
            [
             0.2222222222222222,
             "#7201a8"
            ],
            [
             0.3333333333333333,
             "#9c179e"
            ],
            [
             0.4444444444444444,
             "#bd3786"
            ],
            [
             0.5555555555555556,
             "#d8576b"
            ],
            [
             0.6666666666666666,
             "#ed7953"
            ],
            [
             0.7777777777777778,
             "#fb9f3a"
            ],
            [
             0.8888888888888888,
             "#fdca26"
            ],
            [
             1,
             "#f0f921"
            ]
           ]
          },
          "colorway": [
           "#636efa",
           "#EF553B",
           "#00cc96",
           "#ab63fa",
           "#FFA15A",
           "#19d3f3",
           "#FF6692",
           "#B6E880",
           "#FF97FF",
           "#FECB52"
          ],
          "font": {
           "color": "#2a3f5f"
          },
          "geo": {
           "bgcolor": "white",
           "lakecolor": "white",
           "landcolor": "#E5ECF6",
           "showlakes": true,
           "showland": true,
           "subunitcolor": "white"
          },
          "hoverlabel": {
           "align": "left"
          },
          "hovermode": "closest",
          "mapbox": {
           "style": "light"
          },
          "paper_bgcolor": "white",
          "plot_bgcolor": "#E5ECF6",
          "polar": {
           "angularaxis": {
            "gridcolor": "white",
            "linecolor": "white",
            "ticks": ""
           },
           "bgcolor": "#E5ECF6",
           "radialaxis": {
            "gridcolor": "white",
            "linecolor": "white",
            "ticks": ""
           }
          },
          "scene": {
           "xaxis": {
            "backgroundcolor": "#E5ECF6",
            "gridcolor": "white",
            "gridwidth": 2,
            "linecolor": "white",
            "showbackground": true,
            "ticks": "",
            "zerolinecolor": "white"
           },
           "yaxis": {
            "backgroundcolor": "#E5ECF6",
            "gridcolor": "white",
            "gridwidth": 2,
            "linecolor": "white",
            "showbackground": true,
            "ticks": "",
            "zerolinecolor": "white"
           },
           "zaxis": {
            "backgroundcolor": "#E5ECF6",
            "gridcolor": "white",
            "gridwidth": 2,
            "linecolor": "white",
            "showbackground": true,
            "ticks": "",
            "zerolinecolor": "white"
           }
          },
          "shapedefaults": {
           "line": {
            "color": "#2a3f5f"
           }
          },
          "ternary": {
           "aaxis": {
            "gridcolor": "white",
            "linecolor": "white",
            "ticks": ""
           },
           "baxis": {
            "gridcolor": "white",
            "linecolor": "white",
            "ticks": ""
           },
           "bgcolor": "#E5ECF6",
           "caxis": {
            "gridcolor": "white",
            "linecolor": "white",
            "ticks": ""
           }
          },
          "title": {
           "x": 0.05
          },
          "xaxis": {
           "automargin": true,
           "gridcolor": "white",
           "linecolor": "white",
           "ticks": "",
           "title": {
            "standoff": 15
           },
           "zerolinecolor": "white",
           "zerolinewidth": 2
          },
          "yaxis": {
           "automargin": true,
           "gridcolor": "white",
           "linecolor": "white",
           "ticks": "",
           "title": {
            "standoff": 15
           },
           "zerolinecolor": "white",
           "zerolinewidth": 2
          }
         }
        }
       }
      }
     },
     "metadata": {},
     "output_type": "display_data"
    }
   ],
   "source": [
    "# Fifth Cell - Data Visualization\n",
    "\n",
    "fig = make_subplots(specs=[[{\"secondary_y\": True}]])\n",
    "\n",
    "# Add spreads\n",
    "fig.add_trace(\n",
    "    go.Scatter(x=df_viz['quarter'], y=df_viz['quarterly_spread'], name=\"Option-Adjusted Spread %\"),\n",
    "    secondary_y=False\n",
    ")\n",
    "\n",
    "# Add delinquency\n",
    "fig.add_trace(\n",
    "    go.Scatter(x=df_viz['quarter'], y=df_viz['delinquency_rate_loans'], name=\"Delinquency Rate Loan %\"),\n",
    "    secondary_y=True\n",
    ")\n",
    "\n",
    "# Update layout \n",
    "fig.update_layout(\n",
    "    title='Option-Adjusted Spread vs Corporate Loan Delinquency'\n",
    ")\n",
    "\n",
    "fig.update_yaxes(title_text=\"Option-Adjusted Spread (%)\", secondary_y=False)\n",
    "fig.update_yaxes(title_text=\"Delinquency Rate (%)\", secondary_y=True)\n",
    "\n",
    "fig.show()\n",
    "pio.write_image(fig, \"data_viz.pdf\", format=\"pdf\", engine=\"kaleido\")\n",
    "\n",
    "fig = go.Figure(data=[go.Table(\n",
    "    header=dict(values=list(df_viz.columns),\n",
    "                fill_color='paleturquoise',\n",
    "                align='left'),\n",
    "    cells=dict(values=[df_viz[col] for col in df_viz.columns],\n",
    "               fill_color='lavender',\n",
    "               align='left'))\n",
    "])\n",
    "\n",
    "fig.show()"
   ]
  }
 ],
 "metadata": {
  "kernelspec": {
   "display_name": "venv",
   "language": "python",
   "name": "python3"
  },
  "language_info": {
   "codemirror_mode": {
    "name": "ipython",
    "version": 3
   },
   "file_extension": ".py",
   "mimetype": "text/x-python",
   "name": "python",
   "nbconvert_exporter": "python",
   "pygments_lexer": "ipython3",
   "version": "3.13.0"
  }
 },
 "nbformat": 4,
 "nbformat_minor": 2
}
