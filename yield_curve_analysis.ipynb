{
 "cells": [
  {
   "cell_type": "code",
   "execution_count": 35,
   "metadata": {},
   "outputs": [],
   "source": [
    "# First cell - Imports\n",
    "import pandas as pd\n",
    "import numpy as np\n",
    "import plotly.express as px\n",
    "import plotly.graph_objects as go\n",
    "from plotly.subplots import make_subplots\n",
    "import requests\n",
    "from datetime import datetime\n",
    "import json\n",
    "import os\n",
    "from dotenv import load_dotenv"
   ]
  },
  {
   "cell_type": "code",
   "execution_count": 36,
   "metadata": {},
   "outputs": [],
   "source": [
    "# Second Cell - Data Extraction/Load\n",
    "load_dotenv()\n",
    "\n",
    "# Get API key from environment\n",
    "API_KEY = os.getenv('FRED_API_KEY')\n",
    "BASE_URL = 'https://api.stlouisfed.org/fred'\n",
    "\n",
    "def get_fred_series(series_id, observation_start=None):\n",
    "    \"\"\"\n",
    "    Fetch data series from FRED API\n",
    "    \n",
    "    Parameters:\n",
    "    series_id (str): FRED series identifier\n",
    "    observation_start (str): Start date in YYYY-MM-DD format\n",
    "    \n",
    "    Returns:\n",
    "    pandas.DataFrame: Time series data\n",
    "    \"\"\"\n",
    "    # Build API URL\n",
    "    url = f\"{BASE_URL}/series/observations\"\n",
    "    \n",
    "    params = {\n",
    "        'series_id': series_id,\n",
    "        'api_key': API_KEY,\n",
    "        'file_type': 'json',\n",
    "        'observation_start': observation_start if observation_start else '1976-01-01'\n",
    "    }\n",
    "    \n",
    "    # Make API request\n",
    "    response = requests.get(url, params=params)\n",
    "    data = response.json()\n",
    "    \n",
    "    # Convert to DataFrame\n",
    "    df = pd.DataFrame(data['observations'])\n",
    "    df['date'] = pd.to_datetime(df['date'])\n",
    "    df['value'] = pd.to_numeric(df['value'], errors='coerce')\n",
    "    \n",
    "    return df.set_index('date')['value'] #set date index so pandas automatically knows the date (i.e. resampling)\n",
    "\n",
    "# Get our series\n",
    "yield_spread = get_fred_series('T10Y2Y')\n",
    "gdp = get_fred_series('GDPC1')\n",
    "fed_funds = get_fred_series('DFF')\n",
    "unemployment = get_fred_series('UNRATE')\n",
    "option_adjusted_spread = get_fred_series('BAMLH0A0HYM2')\n",
    "delinquency_rate = get_fred_series('DRCCLACBS')\n",
    "\n",
    "# Create main dataframe\n",
    "df = pd.DataFrame({\n",
    "    'yield_spread': yield_spread,\n",
    "    'gdp': gdp,\n",
    "    'fed_funds':fed_funds, \n",
    "    'unemployment': unemployment,\n",
    "    'option_adjusted_spread': option_adjusted_spread,\n",
    "    'delinquency_rate': delinquency_rate\n",
    "})\n"
   ]
  },
  {
   "cell_type": "code",
   "execution_count": 37,
   "metadata": {},
   "outputs": [
    {
     "name": "stderr",
     "output_type": "stream",
     "text": [
      "C:\\Users\\mrasm\\AppData\\Local\\Temp\\ipykernel_28256\\115380690.py:4: FutureWarning: The default fill_method='pad' in Series.pct_change is deprecated and will be removed in a future version. Either fill in any non-leading NA values prior to calling pct_change or specify 'fill_method=None' to not fill NA values.\n",
      "  df['gdp_growth'] = df['gdp'].pct_change(periods=4) * 100\n",
      "C:\\Users\\mrasm\\AppData\\Local\\Temp\\ipykernel_28256\\115380690.py:10: FutureWarning: 'M' is deprecated and will be removed in a future version, please use 'ME' instead.\n",
      "  .resample('M')['option_adjusted_spread']\n"
     ]
    }
   ],
   "source": [
    "# Third Cell - Data Transformation\n",
    "\n",
    "# Calculate GDP growth rate (annualized)\n",
    "df['gdp_growth'] = df['gdp'].pct_change(periods=4) * 100\n",
    "\n",
    "df['delinquency_rate_clean'] = df['delinquency_rate'].ffill()\n",
    "\n",
    "# Get end of month value for option adjusted spread\n",
    "monthly_spreads = (df\n",
    "    .resample('M')['option_adjusted_spread']\n",
    "    .last()  # Takes last value of each month\n",
    "    .reset_index()\n",
    "    .rename(columns={'option_adjusted_spread': 'monthly_spread'})\n",
    ")\n",
    "\n",
    "# Fill down (forward fill)\n",
    "df = df.merge(monthly_spreads, on='date', how='left')\n",
    "df['monthly_spread'] = df['monthly_spread'].ffill()\n",
    "df.to_excel('stats.xlsx')"
   ]
  },
  {
   "cell_type": "code",
   "execution_count": 21,
   "metadata": {},
   "outputs": [
    {
     "name": "stdout",
     "output_type": "stream",
     "text": [
      "            yield_spread       gdp  fed_funds  unemployment  \\\n",
      "date                                                          \n",
      "1976-01-01           NaN  6323.649       5.37           7.9   \n",
      "1976-01-02           NaN       NaN       5.28           NaN   \n",
      "1976-01-03           NaN       NaN       5.28           NaN   \n",
      "1976-01-04           NaN       NaN       5.28           NaN   \n",
      "1976-01-05           NaN       NaN       5.29           NaN   \n",
      "...                  ...       ...        ...           ...   \n",
      "2024-11-04          0.14       NaN       4.83           NaN   \n",
      "2024-11-05          0.07       NaN       4.83           NaN   \n",
      "2024-11-06          0.15       NaN       4.83           NaN   \n",
      "2024-11-07          0.10       NaN       4.83           NaN   \n",
      "2024-11-08          0.04       NaN        NaN           NaN   \n",
      "\n",
      "            option_adjusted_spread  delinquency_rate  gdp_growth  \\\n",
      "date                                                               \n",
      "1976-01-01                     NaN               NaN         NaN   \n",
      "1976-01-02                     NaN               NaN         NaN   \n",
      "1976-01-03                     NaN               NaN         NaN   \n",
      "1976-01-04                     NaN               NaN         NaN   \n",
      "1976-01-05                     NaN               NaN         0.0   \n",
      "...                            ...               ...         ...   \n",
      "2024-11-04                    2.87               NaN         0.0   \n",
      "2024-11-05                    2.86               NaN         0.0   \n",
      "2024-11-06                    2.74               NaN         0.0   \n",
      "2024-11-07                    2.73               NaN         0.0   \n",
      "2024-11-08                     NaN               NaN         0.0   \n",
      "\n",
      "            delinquency_rate_clean  \n",
      "date                                \n",
      "1976-01-01                     NaN  \n",
      "1976-01-02                     NaN  \n",
      "1976-01-03                     NaN  \n",
      "1976-01-04                     NaN  \n",
      "1976-01-05                     NaN  \n",
      "...                            ...  \n",
      "2024-11-04                    3.25  \n",
      "2024-11-05                    3.25  \n",
      "2024-11-06                    3.25  \n",
      "2024-11-07                    3.25  \n",
      "2024-11-08                    3.25  \n",
      "\n",
      "[17845 rows x 8 columns]\n"
     ]
    }
   ],
   "source": [
    "# Fourth Cell - Data Visualization\n"
   ]
  }
 ],
 "metadata": {
  "kernelspec": {
   "display_name": "venv",
   "language": "python",
   "name": "python3"
  },
  "language_info": {
   "codemirror_mode": {
    "name": "ipython",
    "version": 3
   },
   "file_extension": ".py",
   "mimetype": "text/x-python",
   "name": "python",
   "nbconvert_exporter": "python",
   "pygments_lexer": "ipython3",
   "version": "3.13.0"
  }
 },
 "nbformat": 4,
 "nbformat_minor": 2
}
